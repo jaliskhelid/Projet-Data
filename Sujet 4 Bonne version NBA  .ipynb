{
 "cells": [
  {
   "cell_type": "markdown",
   "metadata": {},
   "source": [
    "# - Importation des librairies & des variables d'aides"
   ]
  },
  {
   "cell_type": "code",
   "execution_count": 1,
   "metadata": {},
   "outputs": [],
   "source": [
    "# But du code : Importer les principales librairies pour réutiliser des fonctionnalités de ces librairies.\n",
    "# 1-1- Library\n",
    "import pandas as pd\n",
    "import numpy as np\n",
    "import matplotlib.pyplot as plt\n",
    "import seaborn as sns\n",
    "import sklearn\n",
    "\n",
    "# 1-2- Paramétrage (optionnelle)\n",
    "# warnings.simplefilter permet d'ignorer des warnings inutiles (exemple : la fonction subplots affiche un warning inutile)\n",
    "import warnings\n",
    "warnings.simplefilter(\"ignore\")\n",
    "\n",
    "# 1-3- Variables d'aides\n",
    "class color:\n",
    "    BOLD = '\\033[1m'\n",
    "    END = '\\033[0m'"
   ]
  },
  {
   "cell_type": "markdown",
   "metadata": {},
   "source": [
    "# - Data Processing\n"
   ]
  },
  {
   "cell_type": "markdown",
   "metadata": {},
   "source": [
    "# - Data loading"
   ]
  },
  {
   "cell_type": "code",
   "execution_count": 2,
   "metadata": {},
   "outputs": [
    {
     "data": {
      "text/html": [
       "<div>\n",
       "<style scoped>\n",
       "    .dataframe tbody tr th:only-of-type {\n",
       "        vertical-align: middle;\n",
       "    }\n",
       "\n",
       "    .dataframe tbody tr th {\n",
       "        vertical-align: top;\n",
       "    }\n",
       "\n",
       "    .dataframe thead th {\n",
       "        text-align: right;\n",
       "    }\n",
       "</style>\n",
       "<table border=\"1\" class=\"dataframe\">\n",
       "  <thead>\n",
       "    <tr style=\"text-align: right;\">\n",
       "      <th></th>\n",
       "      <th>X1</th>\n",
       "      <th>X2</th>\n",
       "      <th>X3</th>\n",
       "      <th>X4</th>\n",
       "      <th>X5</th>\n",
       "      <th>X6</th>\n",
       "      <th>X7</th>\n",
       "      <th>X8</th>\n",
       "      <th>X9</th>\n",
       "      <th>X10</th>\n",
       "      <th>X11</th>\n",
       "      <th>X12</th>\n",
       "      <th>X13</th>\n",
       "      <th>X14</th>\n",
       "      <th>X15</th>\n",
       "      <th>X16</th>\n",
       "      <th>X17</th>\n",
       "      <th>X18</th>\n",
       "      <th>X19</th>\n",
       "      <th>Y</th>\n",
       "    </tr>\n",
       "    <tr>\n",
       "      <th>Id</th>\n",
       "      <th></th>\n",
       "      <th></th>\n",
       "      <th></th>\n",
       "      <th></th>\n",
       "      <th></th>\n",
       "      <th></th>\n",
       "      <th></th>\n",
       "      <th></th>\n",
       "      <th></th>\n",
       "      <th></th>\n",
       "      <th></th>\n",
       "      <th></th>\n",
       "      <th></th>\n",
       "      <th></th>\n",
       "      <th></th>\n",
       "      <th></th>\n",
       "      <th></th>\n",
       "      <th></th>\n",
       "      <th></th>\n",
       "      <th></th>\n",
       "    </tr>\n",
       "  </thead>\n",
       "  <tbody>\n",
       "    <tr>\n",
       "      <th>Brandon Ingram</th>\n",
       "      <td>0.5</td>\n",
       "      <td>2.1</td>\n",
       "      <td>25.0</td>\n",
       "      <td>36</td>\n",
       "      <td>27.4</td>\n",
       "      <td>7.4</td>\n",
       "      <td>2.6</td>\n",
       "      <td>7.6</td>\n",
       "      <td>34.7</td>\n",
       "      <td>1.6</td>\n",
       "      <td>2.3</td>\n",
       "      <td>69.9</td>\n",
       "      <td>4.1</td>\n",
       "      <td>0.7</td>\n",
       "      <td>3.4</td>\n",
       "      <td>1.9</td>\n",
       "      <td>0.4</td>\n",
       "      <td>0.4</td>\n",
       "      <td>1.3</td>\n",
       "      <td>0</td>\n",
       "    </tr>\n",
       "    <tr>\n",
       "      <th>Andrew Harrison</th>\n",
       "      <td>0.7</td>\n",
       "      <td>2.8</td>\n",
       "      <td>23.5</td>\n",
       "      <td>35</td>\n",
       "      <td>26.9</td>\n",
       "      <td>7.2</td>\n",
       "      <td>2.0</td>\n",
       "      <td>6.7</td>\n",
       "      <td>29.6</td>\n",
       "      <td>2.6</td>\n",
       "      <td>3.4</td>\n",
       "      <td>76.5</td>\n",
       "      <td>2.4</td>\n",
       "      <td>0.5</td>\n",
       "      <td>2.0</td>\n",
       "      <td>3.7</td>\n",
       "      <td>1.1</td>\n",
       "      <td>0.5</td>\n",
       "      <td>1.6</td>\n",
       "      <td>0</td>\n",
       "    </tr>\n",
       "  </tbody>\n",
       "</table>\n",
       "</div>"
      ],
      "text/plain": [
       "                  X1   X2    X3  X4    X5   X6   X7   X8    X9  X10  X11  \\\n",
       "Id                                                                         \n",
       "Brandon Ingram   0.5  2.1  25.0  36  27.4  7.4  2.6  7.6  34.7  1.6  2.3   \n",
       "Andrew Harrison  0.7  2.8  23.5  35  26.9  7.2  2.0  6.7  29.6  2.6  3.4   \n",
       "\n",
       "                  X12  X13  X14  X15  X16  X17  X18  X19  Y  \n",
       "Id                                                           \n",
       "Brandon Ingram   69.9  4.1  0.7  3.4  1.9  0.4  0.4  1.3  0  \n",
       "Andrew Harrison  76.5  2.4  0.5  2.0  3.7  1.1  0.5  1.6  0  "
      ]
     },
     "execution_count": 2,
     "metadata": {},
     "output_type": "execute_result"
    }
   ],
   "source": [
    "# But du code : Importer les données.\n",
    "\n",
    "### 2.1- Importation des données\n",
    "dataset = pd.read_excel(r\"C:\\Users\\Louni\\Desktop\\Fourth Database Project.xlsx\")\n",
    "\n",
    "# set_index permet de dire à Python que l'identifiant de la table dataset est la colonne Loan_Id\n",
    "dataset.set_index(\"Id\", inplace=True)\n",
    "\n",
    "dataset.head(2)"
   ]
  },
  {
   "cell_type": "markdown",
   "metadata": {},
   "source": [
    "# - Data splitting"
   ]
  },
  {
   "cell_type": "markdown",
   "metadata": {},
   "source": [
    "3.1- Division de dataset en train (db_train) et test (db_test)"
   ]
  },
  {
   "cell_type": "code",
   "execution_count": 3,
   "metadata": {},
   "outputs": [],
   "source": [
    "# But du code : Scinder la base de données en base d'apprentissage et en base de modélisation.\n",
    "# Cette étape est indispensable pour construire un modèle de classification supervisé.\n",
    "\n",
    "from sklearn.model_selection import train_test_split\n",
    "\n",
    "db_train, db_test = train_test_split(dataset, train_size = 1072, random_state=60)"
   ]
  },
  {
   "cell_type": "markdown",
   "metadata": {},
   "source": [
    "3.2- Information sur la base train et test"
   ]
  },
  {
   "cell_type": "code",
   "execution_count": 4,
   "metadata": {},
   "outputs": [
    {
     "name": "stdout",
     "output_type": "stream",
     "text": [
      "\u001b[1mBase d'apprentissage\u001b[0m\n",
      "(1072, 20)\n",
      "\u001b[1m\n",
      "Base de test\u001b[0m\n",
      "(268, 20)\n"
     ]
    }
   ],
   "source": [
    "# But du code : Information sur la base de train et la base de test.\n",
    "\n",
    "# Base train : nombre de lignes et de colonnnes\n",
    "print(color.BOLD + \"Base d'apprentissage\" + color.END)\n",
    "print(db_train.shape)\n",
    "\n",
    "# Base test : nombre de lignes et de colonnnes\n",
    "print(color.BOLD + \"\\nBase de test\" + color.END)\n",
    "print(db_test.shape)"
   ]
  },
  {
   "cell_type": "markdown",
   "metadata": {},
   "source": [
    "Conclusion : Il y a 1072 basketteurs dans la base train qui sont décrits par 20 variables explicatives. La base test contient 268 basketteurs."
   ]
  },
  {
   "cell_type": "markdown",
   "metadata": {},
   "source": [
    "# - Analyse exploratoire des données"
   ]
  },
  {
   "cell_type": "code",
   "execution_count": 5,
   "metadata": {},
   "outputs": [
    {
     "data": {
      "text/html": [
       "<div>\n",
       "<style scoped>\n",
       "    .dataframe tbody tr th:only-of-type {\n",
       "        vertical-align: middle;\n",
       "    }\n",
       "\n",
       "    .dataframe tbody tr th {\n",
       "        vertical-align: top;\n",
       "    }\n",
       "\n",
       "    .dataframe thead th {\n",
       "        text-align: right;\n",
       "    }\n",
       "</style>\n",
       "<table border=\"1\" class=\"dataframe\">\n",
       "  <thead>\n",
       "    <tr style=\"text-align: right;\">\n",
       "      <th></th>\n",
       "      <th>X1</th>\n",
       "      <th>X2</th>\n",
       "      <th>X3</th>\n",
       "      <th>X4</th>\n",
       "      <th>X5</th>\n",
       "      <th>X6</th>\n",
       "      <th>X7</th>\n",
       "      <th>X8</th>\n",
       "      <th>X9</th>\n",
       "      <th>X10</th>\n",
       "      <th>X11</th>\n",
       "      <th>X12</th>\n",
       "      <th>X13</th>\n",
       "      <th>X14</th>\n",
       "      <th>X15</th>\n",
       "      <th>X16</th>\n",
       "      <th>X17</th>\n",
       "      <th>X18</th>\n",
       "      <th>X19</th>\n",
       "      <th>Y</th>\n",
       "    </tr>\n",
       "  </thead>\n",
       "  <tbody>\n",
       "    <tr>\n",
       "      <th>count</th>\n",
       "      <td>1072.000000</td>\n",
       "      <td>1072.000000</td>\n",
       "      <td>1063.000000</td>\n",
       "      <td>1072.000000</td>\n",
       "      <td>1072.000000</td>\n",
       "      <td>1072.000000</td>\n",
       "      <td>1072.000000</td>\n",
       "      <td>1072.000000</td>\n",
       "      <td>1072.000000</td>\n",
       "      <td>1072.000000</td>\n",
       "      <td>1072.000000</td>\n",
       "      <td>1072.000000</td>\n",
       "      <td>1072.000000</td>\n",
       "      <td>1072.000000</td>\n",
       "      <td>1072.000000</td>\n",
       "      <td>1072.000000</td>\n",
       "      <td>1072.000000</td>\n",
       "      <td>1072.000000</td>\n",
       "      <td>1072.000000</td>\n",
       "      <td>1072.000000</td>\n",
       "    </tr>\n",
       "    <tr>\n",
       "      <th>mean</th>\n",
       "      <td>0.252052</td>\n",
       "      <td>0.789272</td>\n",
       "      <td>19.676199</td>\n",
       "      <td>60.582090</td>\n",
       "      <td>17.431716</td>\n",
       "      <td>6.722201</td>\n",
       "      <td>2.602052</td>\n",
       "      <td>5.831063</td>\n",
       "      <td>44.135821</td>\n",
       "      <td>1.269496</td>\n",
       "      <td>1.783955</td>\n",
       "      <td>70.540951</td>\n",
       "      <td>2.991698</td>\n",
       "      <td>1.002052</td>\n",
       "      <td>1.990765</td>\n",
       "      <td>1.535448</td>\n",
       "      <td>0.614459</td>\n",
       "      <td>0.358116</td>\n",
       "      <td>1.186007</td>\n",
       "      <td>0.622201</td>\n",
       "    </tr>\n",
       "    <tr>\n",
       "      <th>std</th>\n",
       "      <td>0.386073</td>\n",
       "      <td>1.064225</td>\n",
       "      <td>15.957743</td>\n",
       "      <td>17.394064</td>\n",
       "      <td>8.181817</td>\n",
       "      <td>4.245801</td>\n",
       "      <td>1.660632</td>\n",
       "      <td>3.555303</td>\n",
       "      <td>6.174866</td>\n",
       "      <td>0.916399</td>\n",
       "      <td>1.248104</td>\n",
       "      <td>10.564298</td>\n",
       "      <td>2.048587</td>\n",
       "      <td>0.787777</td>\n",
       "      <td>1.336215</td>\n",
       "      <td>1.421114</td>\n",
       "      <td>0.404579</td>\n",
       "      <td>0.412830</td>\n",
       "      <td>0.712874</td>\n",
       "      <td>0.485063</td>\n",
       "    </tr>\n",
       "    <tr>\n",
       "      <th>min</th>\n",
       "      <td>0.000000</td>\n",
       "      <td>0.000000</td>\n",
       "      <td>0.000000</td>\n",
       "      <td>11.000000</td>\n",
       "      <td>3.100000</td>\n",
       "      <td>0.700000</td>\n",
       "      <td>0.300000</td>\n",
       "      <td>0.800000</td>\n",
       "      <td>23.800000</td>\n",
       "      <td>0.000000</td>\n",
       "      <td>0.000000</td>\n",
       "      <td>0.000000</td>\n",
       "      <td>0.300000</td>\n",
       "      <td>0.000000</td>\n",
       "      <td>0.200000</td>\n",
       "      <td>0.000000</td>\n",
       "      <td>0.000000</td>\n",
       "      <td>0.000000</td>\n",
       "      <td>0.100000</td>\n",
       "      <td>0.000000</td>\n",
       "    </tr>\n",
       "    <tr>\n",
       "      <th>25%</th>\n",
       "      <td>0.000000</td>\n",
       "      <td>0.000000</td>\n",
       "      <td>0.000000</td>\n",
       "      <td>47.000000</td>\n",
       "      <td>10.900000</td>\n",
       "      <td>3.700000</td>\n",
       "      <td>1.400000</td>\n",
       "      <td>3.300000</td>\n",
       "      <td>40.175000</td>\n",
       "      <td>0.600000</td>\n",
       "      <td>0.900000</td>\n",
       "      <td>65.000000</td>\n",
       "      <td>1.500000</td>\n",
       "      <td>0.400000</td>\n",
       "      <td>1.000000</td>\n",
       "      <td>0.600000</td>\n",
       "      <td>0.300000</td>\n",
       "      <td>0.100000</td>\n",
       "      <td>0.700000</td>\n",
       "      <td>0.000000</td>\n",
       "    </tr>\n",
       "    <tr>\n",
       "      <th>50%</th>\n",
       "      <td>0.100000</td>\n",
       "      <td>0.300000</td>\n",
       "      <td>23.100000</td>\n",
       "      <td>63.000000</td>\n",
       "      <td>16.000000</td>\n",
       "      <td>5.500000</td>\n",
       "      <td>2.100000</td>\n",
       "      <td>4.800000</td>\n",
       "      <td>44.000000</td>\n",
       "      <td>1.000000</td>\n",
       "      <td>1.500000</td>\n",
       "      <td>71.500000</td>\n",
       "      <td>2.500000</td>\n",
       "      <td>0.800000</td>\n",
       "      <td>1.700000</td>\n",
       "      <td>1.100000</td>\n",
       "      <td>0.500000</td>\n",
       "      <td>0.200000</td>\n",
       "      <td>1.000000</td>\n",
       "      <td>1.000000</td>\n",
       "    </tr>\n",
       "    <tr>\n",
       "      <th>75%</th>\n",
       "      <td>0.400000</td>\n",
       "      <td>1.200000</td>\n",
       "      <td>32.800000</td>\n",
       "      <td>77.000000</td>\n",
       "      <td>22.600000</td>\n",
       "      <td>8.625000</td>\n",
       "      <td>3.400000</td>\n",
       "      <td>7.500000</td>\n",
       "      <td>47.800000</td>\n",
       "      <td>1.600000</td>\n",
       "      <td>2.300000</td>\n",
       "      <td>77.800000</td>\n",
       "      <td>3.900000</td>\n",
       "      <td>1.400000</td>\n",
       "      <td>2.600000</td>\n",
       "      <td>2.000000</td>\n",
       "      <td>0.800000</td>\n",
       "      <td>0.500000</td>\n",
       "      <td>1.500000</td>\n",
       "      <td>1.000000</td>\n",
       "    </tr>\n",
       "    <tr>\n",
       "      <th>max</th>\n",
       "      <td>2.100000</td>\n",
       "      <td>6.500000</td>\n",
       "      <td>100.000000</td>\n",
       "      <td>82.000000</td>\n",
       "      <td>40.900000</td>\n",
       "      <td>23.700000</td>\n",
       "      <td>9.800000</td>\n",
       "      <td>19.800000</td>\n",
       "      <td>73.700000</td>\n",
       "      <td>5.700000</td>\n",
       "      <td>8.900000</td>\n",
       "      <td>100.000000</td>\n",
       "      <td>13.900000</td>\n",
       "      <td>5.300000</td>\n",
       "      <td>9.600000</td>\n",
       "      <td>9.300000</td>\n",
       "      <td>2.500000</td>\n",
       "      <td>3.500000</td>\n",
       "      <td>4.400000</td>\n",
       "      <td>1.000000</td>\n",
       "    </tr>\n",
       "  </tbody>\n",
       "</table>\n",
       "</div>"
      ],
      "text/plain": [
       "                X1           X2           X3           X4           X5  \\\n",
       "count  1072.000000  1072.000000  1063.000000  1072.000000  1072.000000   \n",
       "mean      0.252052     0.789272    19.676199    60.582090    17.431716   \n",
       "std       0.386073     1.064225    15.957743    17.394064     8.181817   \n",
       "min       0.000000     0.000000     0.000000    11.000000     3.100000   \n",
       "25%       0.000000     0.000000     0.000000    47.000000    10.900000   \n",
       "50%       0.100000     0.300000    23.100000    63.000000    16.000000   \n",
       "75%       0.400000     1.200000    32.800000    77.000000    22.600000   \n",
       "max       2.100000     6.500000   100.000000    82.000000    40.900000   \n",
       "\n",
       "                X6           X7           X8           X9          X10  \\\n",
       "count  1072.000000  1072.000000  1072.000000  1072.000000  1072.000000   \n",
       "mean      6.722201     2.602052     5.831063    44.135821     1.269496   \n",
       "std       4.245801     1.660632     3.555303     6.174866     0.916399   \n",
       "min       0.700000     0.300000     0.800000    23.800000     0.000000   \n",
       "25%       3.700000     1.400000     3.300000    40.175000     0.600000   \n",
       "50%       5.500000     2.100000     4.800000    44.000000     1.000000   \n",
       "75%       8.625000     3.400000     7.500000    47.800000     1.600000   \n",
       "max      23.700000     9.800000    19.800000    73.700000     5.700000   \n",
       "\n",
       "               X11          X12          X13          X14          X15  \\\n",
       "count  1072.000000  1072.000000  1072.000000  1072.000000  1072.000000   \n",
       "mean      1.783955    70.540951     2.991698     1.002052     1.990765   \n",
       "std       1.248104    10.564298     2.048587     0.787777     1.336215   \n",
       "min       0.000000     0.000000     0.300000     0.000000     0.200000   \n",
       "25%       0.900000    65.000000     1.500000     0.400000     1.000000   \n",
       "50%       1.500000    71.500000     2.500000     0.800000     1.700000   \n",
       "75%       2.300000    77.800000     3.900000     1.400000     2.600000   \n",
       "max       8.900000   100.000000    13.900000     5.300000     9.600000   \n",
       "\n",
       "               X16          X17          X18          X19            Y  \n",
       "count  1072.000000  1072.000000  1072.000000  1072.000000  1072.000000  \n",
       "mean      1.535448     0.614459     0.358116     1.186007     0.622201  \n",
       "std       1.421114     0.404579     0.412830     0.712874     0.485063  \n",
       "min       0.000000     0.000000     0.000000     0.100000     0.000000  \n",
       "25%       0.600000     0.300000     0.100000     0.700000     0.000000  \n",
       "50%       1.100000     0.500000     0.200000     1.000000     1.000000  \n",
       "75%       2.000000     0.800000     0.500000     1.500000     1.000000  \n",
       "max       9.300000     2.500000     3.500000     4.400000     1.000000  "
      ]
     },
     "execution_count": 5,
     "metadata": {},
     "output_type": "execute_result"
    }
   ],
   "source": [
    "db_train.describe()"
   ]
  },
  {
   "cell_type": "markdown",
   "metadata": {},
   "source": [
    "X1 : - moyenne de 0,25 3 points réalisés\n",
    "X4 : - moyenne de 60 matchs joués par saison\n",
    "X5 : - moyene de 17 minutes par matchs"
   ]
  },
  {
   "cell_type": "markdown",
   "metadata": {},
   "source": [
    "Caclul des taux de longevité octroyés : base train et test"
   ]
  },
  {
   "cell_type": "code",
   "execution_count": 6,
   "metadata": {},
   "outputs": [
    {
     "data": {
      "image/png": "[encoded data removed]",
      "text/plain": [
       "<Figure size 720x216 with 2 Axes>"
      ]
     },
     "metadata": {
      "needs_background": "light"
     },
     "output_type": "display_data"
    },
    {
     "data": {
      "image/png": "[encoded data removed]",
      "text/plain": [
       "<Figure size 1008x216 with 2 Axes>"
      ]
     },
     "metadata": {
      "needs_background": "light"
     },
     "output_type": "display_data"
    }
   ],
   "source": [
    "# But du code : Analyse descriptive de la variable Y longévité\n",
    "# On observe la répartition des clients ayant obtenus une réponse positive de la banque (Loan_Status = 1) vs (Loan_Status = 0).\n",
    "\n",
    "plt.figure(figsize=(10, 3))\n",
    "\n",
    "#Espace d'affichage de la première courbe\n",
    "plt.subplot(1,2,1)\n",
    "\n",
    "# Taux de longévité sur la base train (apprentissage)\n",
    "prop_df = (db_train['Y']\n",
    "        .value_counts(normalize=True)\n",
    "        .reset_index())\n",
    "\n",
    "sns.barplot(x='index', y='Y', data=prop_df);\n",
    "plt.title(\"Carrière base train\");\n",
    "\n",
    "#------------------------------------------------------------------\n",
    "\n",
    "#Espace d'affichage de la seconde courbe\n",
    "plt.subplot(1,2,2)\n",
    "\n",
    "# Taux de longévité sur la base de test\n",
    "prop_df = (db_test['Y']\n",
    "        .value_counts(normalize=True)\n",
    "        .reset_index())\n",
    "\n",
    "sns.barplot(x='index', y='Y', data=prop_df);\n",
    "plt.title(\"Carrière base test\");\n",
    "\n",
    "#Espace entre les deux graphiques\n",
    "plt.subplots_adjust(wspace=0.9)\n",
    "\n",
    "plt.figure(figsize=(14,3)) \n",
    "plt.subplot(1,2,1)\n",
    "db_train['X5'].hist(bins=50) \n",
    "plt.subplot(1,2,2)\n",
    "db_train.boxplot(column='X5', vert = False);\n",
    "\n",
    "\n"
   ]
  },
  {
   "cell_type": "markdown",
   "metadata": {},
   "source": [
    "- 75% des basketteurs jouent 23 minutes ou moins.\n",
    "- 50% jouent 15 minutes\n",
    "- forte concentration entre 5 et 20 minutes\n"
   ]
  },
  {
   "cell_type": "markdown",
   "metadata": {},
   "source": [
    "Conclusion : On remarque que seuls 38% des basketteurs ont fait moins de 5 ans de carrière. On retrouve la même proportion sur la base test. "
   ]
  },
  {
   "cell_type": "markdown",
   "metadata": {},
   "source": [
    "# Matrice de corrélation pour l'analyse des corrélations"
   ]
  },
  {
   "cell_type": "code",
   "execution_count": 7,
   "metadata": {},
   "outputs": [
    {
     "data": {
      "image/png": "[encoded data removed]",
      "text/plain": [
       "<Figure size 576x576 with 2 Axes>"
      ]
     },
     "metadata": {
      "needs_background": "light"
     },
     "output_type": "display_data"
    }
   ],
   "source": [
    "# But du code : Analyser la liaison entre les variables.\n",
    "\n",
    "plt.figure(figsize=(8, 8))\n",
    "\n",
    "corr = db_train.corr()\n",
    "\n",
    "sns.heatmap(corr,\n",
    "            mask=np.zeros_like(corr, dtype=np.bool),\n",
    "            cmap=sns.diverging_palette(200, 10, as_cmap=True),\n",
    "            square=True);\n"
   ]
  },
  {
   "cell_type": "markdown",
   "metadata": {},
   "source": [
    "Conclusion : les liens (corrélations) significatifs sont entre les variables :\n",
    "- X19 avec X5 X6 X7 X8 X10 X11\n",
    "- X10 et X11 avecX5 X6 X7 X8\n"
   ]
  },
  {
   "cell_type": "markdown",
   "metadata": {},
   "source": [
    "# Modélisation"
   ]
  },
  {
   "cell_type": "markdown",
   "metadata": {},
   "source": [
    "- Data Treatement ( Missing Values)"
   ]
  },
  {
   "cell_type": "markdown",
   "metadata": {},
   "source": [
    "A - Base Train : missing values"
   ]
  },
  {
   "cell_type": "code",
   "execution_count": 8,
   "metadata": {},
   "outputs": [
    {
     "name": "stdout",
     "output_type": "stream",
     "text": [
      "X3     9\n",
      "Y      0\n",
      "X19    0\n",
      "X2     0\n",
      "X4     0\n",
      "X5     0\n",
      "X6     0\n",
      "X7     0\n",
      "X8     0\n",
      "X9     0\n",
      "X10    0\n",
      "X11    0\n",
      "X12    0\n",
      "X13    0\n",
      "X14    0\n",
      "X15    0\n",
      "X16    0\n",
      "X17    0\n",
      "X18    0\n",
      "X1     0\n",
      "dtype: int64\n"
     ]
    }
   ],
   "source": [
    "# But du code : Comptabilisation des valeurs manquantes\n",
    "\n",
    "db_train_na = db_train.isnull().sum()\n",
    "\n",
    "print(db_train_na.sort_values(ascending=False))\n",
    "\n",
    "del db_train_na"
   ]
  },
  {
   "cell_type": "markdown",
   "metadata": {},
   "source": [
    "B- Base Train : Remplissage des valeurs manquantes (missing values)"
   ]
  },
  {
   "cell_type": "code",
   "execution_count": 9,
   "metadata": {},
   "outputs": [],
   "source": [
    "# But du code : Remplacer les valeurs manquantes.\n",
    "\n",
    "# na_values contient les valeurs les plus fréquentes pour les variables qualitatives et la moyenne pour les quantatives .\n",
    "na_values = {\n",
    "    \n",
    "'X3':db_train[\"X3\"].mean(),\n",
    "\n",
    "}\n",
    "\n",
    "# Remplissage des valeurs manquantes.\n",
    "db_train = db_train.fillna(value=na_values)"
   ]
  },
  {
   "cell_type": "markdown",
   "metadata": {},
   "source": [
    "C- Base Test : Remplissage des valeurs manquantes (missing values)"
   ]
  },
  {
   "cell_type": "code",
   "execution_count": 10,
   "metadata": {},
   "outputs": [],
   "source": [
    "# But du code : Remplir les valeurs manquantes.\n",
    "db_test = db_test.fillna(value=na_values)"
   ]
  },
  {
   "cell_type": "markdown",
   "metadata": {},
   "source": [
    "# Standardization directement car pas de variables quali"
   ]
  },
  {
   "cell_type": "markdown",
   "metadata": {},
   "source": [
    "A- Standization de la base train directement car que des variables quanti"
   ]
  },
  {
   "cell_type": "code",
   "execution_count": 11,
   "metadata": {},
   "outputs": [
    {
     "data": {
      "text/plain": [
       "['X2',\n",
       " 'X9',\n",
       " 'X17',\n",
       " 'X5',\n",
       " 'X14',\n",
       " 'X8',\n",
       " 'X7',\n",
       " 'X13',\n",
       " 'X15',\n",
       " 'X19',\n",
       " 'X4',\n",
       " 'X12',\n",
       " 'X11',\n",
       " 'X3',\n",
       " 'X1',\n",
       " 'X18',\n",
       " 'X10',\n",
       " 'X16',\n",
       " 'X6']"
      ]
     },
     "execution_count": 11,
     "metadata": {},
     "output_type": "execute_result"
    }
   ],
   "source": [
    "# But du code : Standardiser les données pour construire notamment les modèles de Mahine Learning.\n",
    "# Pour se faire, il faut déterminer les variables qualitatives.\n",
    "db_train_numericals_columns = dataset.select_dtypes('number')\n",
    "numericals_features = db_train_numericals_columns.columns\n",
    "del db_train_numericals_columns\n",
    "numericals_features = set(numericals_features) .difference(set(['Y']))\n",
    "numericals_features = list(numericals_features)\n",
    "numericals_features"
   ]
  },
  {
   "cell_type": "code",
   "execution_count": 12,
   "metadata": {
    "scrolled": false
   },
   "outputs": [
    {
     "data": {
      "text/html": [
       "<div>\n",
       "<style scoped>\n",
       "    .dataframe tbody tr th:only-of-type {\n",
       "        vertical-align: middle;\n",
       "    }\n",
       "\n",
       "    .dataframe tbody tr th {\n",
       "        vertical-align: top;\n",
       "    }\n",
       "\n",
       "    .dataframe thead th {\n",
       "        text-align: right;\n",
       "    }\n",
       "</style>\n",
       "<table border=\"1\" class=\"dataframe\">\n",
       "  <thead>\n",
       "    <tr style=\"text-align: right;\">\n",
       "      <th></th>\n",
       "      <th>X1</th>\n",
       "      <th>X2</th>\n",
       "      <th>X3</th>\n",
       "      <th>X4</th>\n",
       "      <th>X5</th>\n",
       "      <th>X6</th>\n",
       "      <th>X7</th>\n",
       "      <th>X8</th>\n",
       "      <th>X9</th>\n",
       "      <th>X10</th>\n",
       "      <th>X11</th>\n",
       "      <th>X12</th>\n",
       "      <th>X13</th>\n",
       "      <th>X14</th>\n",
       "      <th>X15</th>\n",
       "      <th>X16</th>\n",
       "      <th>X17</th>\n",
       "      <th>X18</th>\n",
       "      <th>X19</th>\n",
       "      <th>Y</th>\n",
       "    </tr>\n",
       "    <tr>\n",
       "      <th>Id</th>\n",
       "      <th></th>\n",
       "      <th></th>\n",
       "      <th></th>\n",
       "      <th></th>\n",
       "      <th></th>\n",
       "      <th></th>\n",
       "      <th></th>\n",
       "      <th></th>\n",
       "      <th></th>\n",
       "      <th></th>\n",
       "      <th></th>\n",
       "      <th></th>\n",
       "      <th></th>\n",
       "      <th></th>\n",
       "      <th></th>\n",
       "      <th></th>\n",
       "      <th></th>\n",
       "      <th></th>\n",
       "      <th></th>\n",
       "      <th></th>\n",
       "    </tr>\n",
       "  </thead>\n",
       "  <tbody>\n",
       "    <tr>\n",
       "      <th>Solomon Jones</th>\n",
       "      <td>0.0</td>\n",
       "      <td>0.0</td>\n",
       "      <td>0.0</td>\n",
       "      <td>0.661972</td>\n",
       "      <td>0.222222</td>\n",
       "      <td>0.113043</td>\n",
       "      <td>0.084211</td>\n",
       "      <td>0.073684</td>\n",
       "      <td>0.541082</td>\n",
       "      <td>0.175439</td>\n",
       "      <td>0.146067</td>\n",
       "      <td>0.787</td>\n",
       "      <td>0.147059</td>\n",
       "      <td>0.150943</td>\n",
       "      <td>0.138298</td>\n",
       "      <td>0.021505</td>\n",
       "      <td>0.08</td>\n",
       "      <td>0.2</td>\n",
       "      <td>0.069767</td>\n",
       "      <td>1</td>\n",
       "    </tr>\n",
       "    <tr>\n",
       "      <th>Dwayne Schintzius</th>\n",
       "      <td>0.0</td>\n",
       "      <td>0.0</td>\n",
       "      <td>0.0</td>\n",
       "      <td>0.436620</td>\n",
       "      <td>0.169312</td>\n",
       "      <td>0.134783</td>\n",
       "      <td>0.136842</td>\n",
       "      <td>0.152632</td>\n",
       "      <td>0.402806</td>\n",
       "      <td>0.087719</td>\n",
       "      <td>0.112360</td>\n",
       "      <td>0.550</td>\n",
       "      <td>0.191176</td>\n",
       "      <td>0.132075</td>\n",
       "      <td>0.212766</td>\n",
       "      <td>0.043011</td>\n",
       "      <td>0.04</td>\n",
       "      <td>0.2</td>\n",
       "      <td>0.162791</td>\n",
       "      <td>1</td>\n",
       "    </tr>\n",
       "  </tbody>\n",
       "</table>\n",
       "</div>"
      ],
      "text/plain": [
       "                    X1   X2   X3        X4        X5        X6        X7  \\\n",
       "Id                                                                         \n",
       "Solomon Jones      0.0  0.0  0.0  0.661972  0.222222  0.113043  0.084211   \n",
       "Dwayne Schintzius  0.0  0.0  0.0  0.436620  0.169312  0.134783  0.136842   \n",
       "\n",
       "                         X8        X9       X10       X11    X12       X13  \\\n",
       "Id                                                                           \n",
       "Solomon Jones      0.073684  0.541082  0.175439  0.146067  0.787  0.147059   \n",
       "Dwayne Schintzius  0.152632  0.402806  0.087719  0.112360  0.550  0.191176   \n",
       "\n",
       "                        X14       X15       X16   X17  X18       X19  Y  \n",
       "Id                                                                       \n",
       "Solomon Jones      0.150943  0.138298  0.021505  0.08  0.2  0.069767  1  \n",
       "Dwayne Schintzius  0.132075  0.212766  0.043011  0.04  0.2  0.162791  1  "
      ]
     },
     "execution_count": 12,
     "metadata": {},
     "output_type": "execute_result"
    }
   ],
   "source": [
    "# But du code : la méthode MinMaxScaler est une technique de standardisation de sklearn.\n",
    "from sklearn.preprocessing import MinMaxScaler\n",
    "scaler = MinMaxScaler()\n",
    "\n",
    "### Standardisation de la base train\n",
    "db_train[numericals_features] = scaler.fit_transform(db_train[numericals_features].to_numpy())\n",
    "\n",
    "# Affichage des 2 premières lignes de la base train\n",
    "db_train.head(2)"
   ]
  },
  {
   "cell_type": "markdown",
   "metadata": {},
   "source": [
    "B- Standization de la base test"
   ]
  },
  {
   "cell_type": "code",
   "execution_count": 13,
   "metadata": {},
   "outputs": [],
   "source": [
    "#But du code : la fonction scaler.transform standardise la base test.\n",
    "db_test[numericals_features] = scaler.transform(db_test[numericals_features].to_numpy())"
   ]
  },
  {
   "cell_type": "markdown",
   "metadata": {},
   "source": [
    "# - Variables de modélisation"
   ]
  },
  {
   "cell_type": "markdown",
   "metadata": {},
   "source": [
    "A- Identification de la variable Y et de la variable X"
   ]
  },
  {
   "cell_type": "code",
   "execution_count": 14,
   "metadata": {},
   "outputs": [
    {
     "name": "stdout",
     "output_type": "stream",
     "text": [
      "['X2', 'X9', 'X17', 'X5', 'X14', 'X8', 'X7', 'X13', 'X15', 'X19', 'X4', 'X12', 'X11', 'X3', 'X1', 'X18', 'X10', 'X16', 'X6']\n"
     ]
    }
   ],
   "source": [
    "# target contient le nom de la variable Y\n",
    "target = 'Y'\n",
    "\n",
    "# features contient les noms des variables X\n",
    "features = list(set(db_train.columns) - set(target.split()))\n",
    "print(features)"
   ]
  },
  {
   "cell_type": "markdown",
   "metadata": {},
   "source": [
    "B- Base train : Détermination de la variable Y et X"
   ]
  },
  {
   "cell_type": "code",
   "execution_count": 15,
   "metadata": {},
   "outputs": [],
   "source": [
    "# y_train contient les données de Y sur la base train\n",
    "y_train = db_train[target]\n",
    "\n",
    "# x_train contient les données descriptives des clients de la base train (il s'agit de la matrice X du modèle)\n",
    "x_train = db_train[features]"
   ]
  },
  {
   "cell_type": "markdown",
   "metadata": {},
   "source": [
    "C- Base test : Détermination de la variable Y et X"
   ]
  },
  {
   "cell_type": "code",
   "execution_count": 16,
   "metadata": {},
   "outputs": [],
   "source": [
    "# y_test contient les données de Y sur la base train\n",
    "y_test = db_test[target]\n",
    "\n",
    "# x_test contient les données descriptives des clients de la base test (il s'agit de la matrice X du modèle)\n",
    "x_test = db_test[features]"
   ]
  },
  {
   "cell_type": "markdown",
   "metadata": {},
   "source": [
    "# Mesure de la Performance d'un Modèle"
   ]
  },
  {
   "cell_type": "code",
   "execution_count": 17,
   "metadata": {},
   "outputs": [],
   "source": [
    "from sklearn import metrics\n",
    "\n",
    "def performance_modele(modele_name, modele, dataset_name, x_dataset, y_dataset) :\n",
    "    \n",
    "    # MESSAGE D'AFFICHAGE\n",
    "    print(color.BOLD + \"\\n===============================[EVALUATION DU MODELE : \" + modele_name + \" SUR LE DATASET : \" + dataset_name + \"]===============================\")\n",
    "    \n",
    "    #0- PREDICTION DU MODÈLE\n",
    "    y_pred = modele.predict(x_dataset)\n",
    "    \n",
    "    #1- MATRIC DE CONFUSION\n",
    "    cm_logit = metrics.confusion_matrix(y_dataset,y_pred)\n",
    "    print(\"1. MATRIC DE CONFUSION :\" )\n",
    "    print(cm_logit)\n",
    "    \n",
    "    #2- TAUX D'ERREUR DE CLASSEMENT\n",
    "    #a- Taux de succès\n",
    "    as_modele = metrics.accuracy_score(y_true = y_dataset, y_pred = y_pred)\n",
    "    print(\"\\n2-1. ACCURACY SCORE : {:.0%}\".format(as_modele))\n",
    "    \n",
    "    #b- Taux d'erreur de classement\n",
    "    err = 1.0 - as_modele\n",
    "    print(\"\\n2-2. TAUX D'ERREUR : {:.0%}\".format(err))\n",
    "    \n",
    "    #4-AUC DU MODÈLE\n",
    "    y_proba_pred = modele.predict_proba(x_dataset)[:, 1]\n",
    "    \n",
    "    #### B- Calcul des faux positifs et des vrais positifs\n",
    "    fpr, tpr, threshold = sklearn.metrics.roc_curve(y_dataset, y_proba_pred, pos_label=1)\n",
    "    \n",
    "    #AUC\n",
    "    roc_auc = sklearn.metrics.auc(fpr, tpr)\n",
    "    print(\"\\n3. AUC : {:.0%}\".format(roc_auc))\n",
    "    \n",
    "    #RESULTAT DE LA FONCTION\n",
    "    print(color.BOLD + \"===============================[FIN EVALUATION DU MODELE : \" + modele_name + \" SUR LE DATASET : \" + dataset_name + \"]===============================\"+color.END)\n",
    "    \n",
    "    return roc_auc, fpr, tpr"
   ]
  },
  {
   "cell_type": "markdown",
   "metadata": {},
   "source": [
    "# - Régression Logistique"
   ]
  },
  {
   "cell_type": "markdown",
   "metadata": {},
   "source": [
    "-Formulation du modèle"
   ]
  },
  {
   "cell_type": "code",
   "execution_count": 18,
   "metadata": {},
   "outputs": [],
   "source": [
    "#7.1- Formulation du modèle de régression logistique\n",
    "from sklearn.linear_model import LogisticRegression\n",
    "\n",
    "#get_reproducible_results()\n",
    "logistic_modele = LogisticRegression(solver=\"liblinear\")\n",
    "\n",
    "#remplace les valeurs manquantes par la moyenne\n",
    "x_train.fillna(x_train.mean(), inplace=True)\n",
    "y_train.fillna(y_train.mean(), inplace=True)\n",
    "\n",
    "x_test.fillna(x_test.mean(), inplace=True)\n",
    "y_test.fillna(y_test.mean(), inplace=True)\n"
   ]
  },
  {
   "cell_type": "code",
   "execution_count": 19,
   "metadata": {},
   "outputs": [
    {
     "data": {
      "text/plain": [
       "LogisticRegression(solver='liblinear')"
      ]
     },
     "execution_count": 19,
     "metadata": {},
     "output_type": "execute_result"
    }
   ],
   "source": [
    "#7.2- Estimation des paramètres du modèle \n",
    "logistic_modele.fit(x_train,y_train)\n"
   ]
  },
  {
   "cell_type": "code",
   "execution_count": 20,
   "metadata": {},
   "outputs": [
    {
     "data": {
      "text/html": [
       "<div>\n",
       "<style scoped>\n",
       "    .dataframe tbody tr th:only-of-type {\n",
       "        vertical-align: middle;\n",
       "    }\n",
       "\n",
       "    .dataframe tbody tr th {\n",
       "        vertical-align: top;\n",
       "    }\n",
       "\n",
       "    .dataframe thead th {\n",
       "        text-align: right;\n",
       "    }\n",
       "</style>\n",
       "<table border=\"1\" class=\"dataframe\">\n",
       "  <thead>\n",
       "    <tr style=\"text-align: right;\">\n",
       "      <th></th>\n",
       "      <th>Feature</th>\n",
       "      <th>Coefficients</th>\n",
       "    </tr>\n",
       "  </thead>\n",
       "  <tbody>\n",
       "    <tr>\n",
       "      <th>0</th>\n",
       "      <td>constante</td>\n",
       "      <td>-2.206649</td>\n",
       "    </tr>\n",
       "    <tr>\n",
       "      <th>0</th>\n",
       "      <td>X2</td>\n",
       "      <td>-0.823004</td>\n",
       "    </tr>\n",
       "  </tbody>\n",
       "</table>\n",
       "</div>"
      ],
      "text/plain": [
       "     Feature  Coefficients\n",
       "0  constante     -2.206649\n",
       "0         X2     -0.823004"
      ]
     },
     "execution_count": 20,
     "metadata": {},
     "output_type": "execute_result"
    }
   ],
   "source": [
    "# Coefficiant de X0\n",
    "constante_coeff = pd.DataFrame({\"Feature\":['constante'],\"Coefficients\":logistic_modele.intercept_[0]})\n",
    "\n",
    "# Coefficiant de X\n",
    "x_coeff = pd.DataFrame({\"Feature\":features,\"Coefficients\":logistic_modele.coef_[0]})\n",
    "\n",
    "coefficient = pd.concat([constante_coeff,x_coeff])\n",
    "coefficient.head(2)"
   ]
  },
  {
   "cell_type": "markdown",
   "metadata": {},
   "source": [
    "-Performance du modèle logistique sur la base train"
   ]
  },
  {
   "cell_type": "code",
   "execution_count": 21,
   "metadata": {},
   "outputs": [
    {
     "name": "stdout",
     "output_type": "stream",
     "text": [
      "\u001b[1m\n",
      "===============================[EVALUATION DU MODELE : Logistique SUR LE DATASET : Train]===============================\n",
      "1. MATRIC DE CONFUSION :\n",
      "[[202 203]\n",
      " [112 555]]\n",
      "\n",
      "2-1. ACCURACY SCORE : 71%\n",
      "\n",
      "2-2. TAUX D'ERREUR : 29%\n",
      "\n",
      "3. AUC : 76%\n",
      "\u001b[1m===============================[FIN EVALUATION DU MODELE : Logistique SUR LE DATASET : Train]===============================\u001b[0m\n"
     ]
    }
   ],
   "source": [
    "roc_auc_logit_train, fpr_logit_train, tpr_logit_train = performance_modele( modele_name = \"Logistique\",\n",
    "                                                                        modele = logistic_modele,\n",
    "                                                                        dataset_name = \"Train\",\n",
    "                                                                        x_dataset = x_train,\n",
    "                                                                        y_dataset = y_train)"
   ]
  },
  {
   "cell_type": "markdown",
   "metadata": {},
   "source": [
    "-Performance du modèle logistique sur la base test"
   ]
  },
  {
   "cell_type": "code",
   "execution_count": 22,
   "metadata": {},
   "outputs": [
    {
     "name": "stdout",
     "output_type": "stream",
     "text": [
      "\u001b[1m\n",
      "===============================[EVALUATION DU MODELE : Logistique SUR LE DATASET : Test]===============================\n",
      "1. MATRIC DE CONFUSION :\n",
      "[[ 56  48]\n",
      " [ 26 138]]\n",
      "\n",
      "2-1. ACCURACY SCORE : 72%\n",
      "\n",
      "2-2. TAUX D'ERREUR : 28%\n",
      "\n",
      "3. AUC : 77%\n",
      "\u001b[1m===============================[FIN EVALUATION DU MODELE : Logistique SUR LE DATASET : Test]===============================\u001b[0m\n"
     ]
    }
   ],
   "source": [
    "roc_auc_logit_test, fpr_logit_test, tpr_logit_test = performance_modele(modele_name = \"Logistique\",\n",
    "                                                                        modele = logistic_modele,\n",
    "                                                                        dataset_name = \"Test\",\n",
    "                                                                        x_dataset = x_test,\n",
    "                                                                        y_dataset = y_test)"
   ]
  },
  {
   "cell_type": "markdown",
   "metadata": {},
   "source": [
    "# - Gradient Boosting (Light Gradient Boosting Machine) : lgbm"
   ]
  },
  {
   "cell_type": "markdown",
   "metadata": {},
   "source": [
    "Le modèle de Boosting (Light Gradient Boosting Machine) sera construit par la fonction LGBMClassifier de la librairie lightgbm."
   ]
  },
  {
   "cell_type": "markdown",
   "metadata": {},
   "source": [
    "# - Formulation du modèle lgbm"
   ]
  },
  {
   "cell_type": "code",
   "execution_count": 23,
   "metadata": {},
   "outputs": [],
   "source": [
    "#Importation de la librairie lightgbm\n",
    "import lightgbm as lgb\n",
    "\n",
    "#Formulation du modele : lgbm_modele est la variable Python contenant le modèle de Boosting (Light Gradient Boosting Machine).\n",
    "lgbm_modele = lgb.LGBMClassifier()"
   ]
  },
  {
   "cell_type": "markdown",
   "metadata": {},
   "source": [
    "# - Affectation des paramètres du modèle lgbm"
   ]
  },
  {
   "cell_type": "code",
   "execution_count": 24,
   "metadata": {},
   "outputs": [],
   "source": [
    "hyperparameter_lgbm = {\n",
    "#colsample_bytree : fraction de variables x à considerer dans la construction de chaque arbre agrégé.\n",
    "'colsample_bytree': 0.7928587601602566,\n",
    "\n",
    "#learning_rate : le pas de la descente du gradient durant l'optimisation de la fonction d'erreur.\n",
    "'learning_rate': 0.008335249153432506,\n",
    "\n",
    "#max_depth : la taille ou la profondeur maximale des arbres agrégés.\n",
    "'max_depth': 6,\n",
    "\n",
    "#n_estimators : le nombnre d'arbres agrégés.\n",
    "'n_estimators': 100,\n",
    "\n",
    "#reg_alpha : Poids de regularization L1 de l'algorithme d'optimisation permettant d'estimer les paramètres du modèle.\n",
    "'reg_alpha': 0.9990354222430756,\n",
    "\n",
    "#reg_lambda : Poids de regularization L2 de l'algorithme d'optimisation permettant d'estimer les paramètres du modèle.\n",
    "'reg_lambda': 0.718606337361164,\n",
    "\n",
    "#subsample_for_bin : Nombres d'observations pour discrétiser les variables quantatives.\n",
    "'subsample_for_bin': 200,\n",
    "\n",
    "#random_state : permet d'avoir des résultats reproductibles.\n",
    "'random_state' : 10\n",
    "}\n",
    "\n",
    "#Pour plus de détails sur l'explication de ces paramètres, voir le lien ci-dessous.\n",
    "#https://readthedocs.org/projects/lightgbm/downloads/pdf/latest/"
   ]
  },
  {
   "cell_type": "code",
   "execution_count": 25,
   "metadata": {},
   "outputs": [
    {
     "data": {
      "text/plain": [
       "LGBMClassifier(colsample_bytree=0.7928587601602566,\n",
       "               learning_rate=0.008335249153432506, max_depth=6, random_state=10,\n",
       "               reg_alpha=0.9990354222430756, reg_lambda=0.718606337361164,\n",
       "               subsample_for_bin=200)"
      ]
     },
     "execution_count": 25,
     "metadata": {},
     "output_type": "execute_result"
    }
   ],
   "source": [
    "# Affectation des paramètres\n",
    "lgbm_modele.set_params(**hyperparameter_lgbm)"
   ]
  },
  {
   "cell_type": "markdown",
   "metadata": {},
   "source": [
    "# -Estimation du modèle lgbm"
   ]
  },
  {
   "cell_type": "code",
   "execution_count": 26,
   "metadata": {},
   "outputs": [
    {
     "data": {
      "text/plain": [
       "LGBMClassifier(colsample_bytree=0.7928587601602566,\n",
       "               learning_rate=0.008335249153432506, max_depth=6, random_state=10,\n",
       "               reg_alpha=0.9990354222430756, reg_lambda=0.718606337361164,\n",
       "               subsample_for_bin=200)"
      ]
     },
     "execution_count": 26,
     "metadata": {},
     "output_type": "execute_result"
    }
   ],
   "source": [
    "lgbm_modele.fit(x_train, y_train)"
   ]
  },
  {
   "cell_type": "markdown",
   "metadata": {},
   "source": [
    "# - Performance du modèle sur la base train"
   ]
  },
  {
   "cell_type": "code",
   "execution_count": 27,
   "metadata": {
    "scrolled": true
   },
   "outputs": [
    {
     "name": "stdout",
     "output_type": "stream",
     "text": [
      "\u001b[1m\n",
      "===============================[EVALUATION DU MODELE : lgbm SUR LE DATASET : Train]===============================\n",
      "1. MATRIC DE CONFUSION :\n",
      "[[168 237]\n",
      " [ 21 646]]\n",
      "\n",
      "2-1. ACCURACY SCORE : 76%\n",
      "\n",
      "2-2. TAUX D'ERREUR : 24%\n",
      "\n",
      "3. AUC : 88%\n",
      "\u001b[1m===============================[FIN EVALUATION DU MODELE : lgbm SUR LE DATASET : Train]===============================\u001b[0m\n"
     ]
    }
   ],
   "source": [
    "roc_auc_lgbm_train, fpr_lgbm_train, tpr_lgbm_train = performance_modele( modele_name = \"lgbm\",\n",
    "                                                    modele = lgbm_modele,\n",
    "                                                    dataset_name = \"Train\",\n",
    "                                                    x_dataset = x_train,\n",
    "                                                    y_dataset = y_train)"
   ]
  },
  {
   "cell_type": "markdown",
   "metadata": {},
   "source": [
    "# - Performance du modèle sur la base test"
   ]
  },
  {
   "cell_type": "code",
   "execution_count": 28,
   "metadata": {},
   "outputs": [
    {
     "name": "stdout",
     "output_type": "stream",
     "text": [
      "\u001b[1m\n",
      "===============================[EVALUATION DU MODELE : lgbm SUR LE DATASET : Test]===============================\n",
      "1. MATRIC DE CONFUSION :\n",
      "[[ 33  71]\n",
      " [ 12 152]]\n",
      "\n",
      "2-1. ACCURACY SCORE : 69%\n",
      "\n",
      "2-2. TAUX D'ERREUR : 31%\n",
      "\n",
      "3. AUC : 73%\n",
      "\u001b[1m===============================[FIN EVALUATION DU MODELE : lgbm SUR LE DATASET : Test]===============================\u001b[0m\n"
     ]
    }
   ],
   "source": [
    "roc_auc_lgbm_test, fpr_lgbm_test, tpr_lgbm_test = performance_modele( modele_name = \"lgbm\",\n",
    "                                                                        modele = lgbm_modele,\n",
    "                                                                        dataset_name = \"Test\",\n",
    "                                                                        x_dataset = x_test,\n",
    "                                                                        y_dataset = y_test)"
   ]
  },
  {
   "cell_type": "markdown",
   "metadata": {},
   "source": [
    "Conclusion : \\ Le modèle de régression logistique est meilleur que le modèle de Boosting notamment sur la base de test."
   ]
  },
  {
   "cell_type": "markdown",
   "metadata": {},
   "source": [
    "# -Random Forest (RF)"
   ]
  },
  {
   "cell_type": "markdown",
   "metadata": {},
   "source": [
    "-Formulation du modèle RF"
   ]
  },
  {
   "cell_type": "markdown",
   "metadata": {},
   "source": [
    "Le modèle de Random Forest sera construit par la fonction RandomForestClassifier de la librairie sklearn."
   ]
  },
  {
   "cell_type": "code",
   "execution_count": 29,
   "metadata": {},
   "outputs": [],
   "source": [
    "# Importation de la librairie\n",
    "from sklearn.ensemble import RandomForestClassifier\n",
    "\n",
    "#Formulation du modèle\n",
    "rf_modele = RandomForestClassifier()"
   ]
  },
  {
   "cell_type": "markdown",
   "metadata": {},
   "source": [
    "-Affectation des paramètres du modèle RF"
   ]
  },
  {
   "cell_type": "code",
   "execution_count": 30,
   "metadata": {},
   "outputs": [],
   "source": [
    "hyperparameter_rf = {\n",
    "    \n",
    "#class_weight : attribue un poids explicite à chaque valeur de la variable Y dans la construction du modèle (correction du problème de désquilibre de la base).\n",
    "'class_weight': 'balanced',\n",
    "\n",
    "#criterion : critère de performance du modèle utilisé.\n",
    "'criterion': 'gini',\n",
    "\n",
    "#max_depth : la taille ou la profondeur maximale des arbres agrégés.\n",
    "'max_depth': 11,\n",
    "\n",
    "# max_features : Nombre de variables à tirer au sort pour construire les arbres agrégés à chaque itération.\n",
    "'max_features': 'sqrt',\n",
    "\n",
    "# min_samples_leaf: Nombre minimum d'observations dans une feuille des arbres agrégés.\n",
    "'min_samples_leaf': 0.08006146989323783,\n",
    "\n",
    "# min_samples_split : Nombre minimum d'observation requis pour diviser un noeud. Il peut être exprimer en fraction du nombre total d'observations.\n",
    "'min_samples_split': 0.15794570681082104,\n",
    "\n",
    "#n_estimators : le nombnre d'arbres agrégés.\n",
    "'n_estimators': 100,\n",
    "\n",
    "#random_state : permet d'avoir des résultats reproductibles.\n",
    "'random_state' : 10\n",
    "}\n",
    "\n",
    "#Pour plus de détails sur l'explication de ces paramètres, voir le lien ci-dessous.\n",
    "#https://scikit-learn.org/stable/modules/generated/sklearn.ensemble.RandomForestClassifier.html"
   ]
  },
  {
   "cell_type": "code",
   "execution_count": 31,
   "metadata": {},
   "outputs": [
    {
     "data": {
      "text/plain": [
       "RandomForestClassifier(class_weight='balanced', max_depth=11,\n",
       "                       max_features='sqrt',\n",
       "                       min_samples_leaf=0.08006146989323783,\n",
       "                       min_samples_split=0.15794570681082104, random_state=10)"
      ]
     },
     "execution_count": 31,
     "metadata": {},
     "output_type": "execute_result"
    }
   ],
   "source": [
    "# Affectation des paramètres.\n",
    "rf_modele.set_params(**hyperparameter_rf)"
   ]
  },
  {
   "cell_type": "markdown",
   "metadata": {},
   "source": [
    "-Estimation du modèle RF"
   ]
  },
  {
   "cell_type": "code",
   "execution_count": 32,
   "metadata": {},
   "outputs": [
    {
     "data": {
      "text/plain": [
       "RandomForestClassifier(class_weight='balanced', max_depth=11,\n",
       "                       max_features='sqrt',\n",
       "                       min_samples_leaf=0.08006146989323783,\n",
       "                       min_samples_split=0.15794570681082104, random_state=10)"
      ]
     },
     "execution_count": 32,
     "metadata": {},
     "output_type": "execute_result"
    }
   ],
   "source": [
    "rf_modele.fit(x_train, y_train)"
   ]
  },
  {
   "cell_type": "markdown",
   "metadata": {},
   "source": [
    "-Performance du modèle sur la base de train"
   ]
  },
  {
   "cell_type": "code",
   "execution_count": 33,
   "metadata": {},
   "outputs": [
    {
     "name": "stdout",
     "output_type": "stream",
     "text": [
      "\u001b[1m\n",
      "===============================[EVALUATION DU MODELE : rf SUR LE DATASET : train]===============================\n",
      "1. MATRIC DE CONFUSION :\n",
      "[[301 104]\n",
      " [235 432]]\n",
      "\n",
      "2-1. ACCURACY SCORE : 68%\n",
      "\n",
      "2-2. TAUX D'ERREUR : 32%\n",
      "\n",
      "3. AUC : 77%\n",
      "\u001b[1m===============================[FIN EVALUATION DU MODELE : rf SUR LE DATASET : train]===============================\u001b[0m\n"
     ]
    }
   ],
   "source": [
    "roc_auc_rf_train, fpr_rf_train, tpr_rf_train = performance_modele( modele_name = \"rf\",\n",
    "                                                                        modele = rf_modele,\n",
    "                                                                        dataset_name = \"train\",\n",
    "                                                                        x_dataset = x_train,\n",
    "                                                                        y_dataset = y_train)"
   ]
  },
  {
   "cell_type": "markdown",
   "metadata": {},
   "source": [
    "-Performance du modèle sur la base de test"
   ]
  },
  {
   "cell_type": "code",
   "execution_count": 34,
   "metadata": {},
   "outputs": [
    {
     "name": "stdout",
     "output_type": "stream",
     "text": [
      "\u001b[1m\n",
      "===============================[EVALUATION DU MODELE : rf SUR LE DATASET : test]===============================\n",
      "1. MATRIC DE CONFUSION :\n",
      "[[ 74  30]\n",
      " [ 49 115]]\n",
      "\n",
      "2-1. ACCURACY SCORE : 71%\n",
      "\n",
      "2-2. TAUX D'ERREUR : 29%\n",
      "\n",
      "3. AUC : 75%\n",
      "\u001b[1m===============================[FIN EVALUATION DU MODELE : rf SUR LE DATASET : test]===============================\u001b[0m\n"
     ]
    }
   ],
   "source": [
    "## - Performance du modèle sur la base de test\n",
    "roc_auc_rf_test, fpr_rf_test, tpr_rf_test = performance_modele( modele_name = \"rf\",\n",
    "                                                                        modele = rf_modele,\n",
    "                                                                        dataset_name = \"test\",\n",
    "                                                                        x_dataset = x_test,\n",
    "                                                                        y_dataset = y_test)"
   ]
  },
  {
   "cell_type": "markdown",
   "metadata": {},
   "source": [
    "Conclusion : \\ Le modèle de régression logistique est meilleur que le modèle de RF notamment sur la base de test."
   ]
  },
  {
   "cell_type": "markdown",
   "metadata": {},
   "source": [
    "# - SVM (Support Vector Machine)"
   ]
  },
  {
   "cell_type": "markdown",
   "metadata": {},
   "source": [
    "Le modèle de SVM sera construit par la fonction SVC de la librairie sklearn.\n",
    "\n",
    "-Formulation du modèle SVM"
   ]
  },
  {
   "cell_type": "code",
   "execution_count": 35,
   "metadata": {},
   "outputs": [],
   "source": [
    "# Importation de la librairie\n",
    "from sklearn import svm\n",
    "\n",
    "#get_reproducible_results()\n",
    "svm_modele = svm.SVC(probability=True)\n",
    "\n",
    "#L'option probability=True permet au modèle SVM (i.e., svm_modele) de calculer la probabilité P(Y=1)"
   ]
  },
  {
   "cell_type": "markdown",
   "metadata": {},
   "source": [
    "-Affectation des paramètres du modèle SVM"
   ]
  },
  {
   "cell_type": "code",
   "execution_count": 36,
   "metadata": {},
   "outputs": [],
   "source": [
    "hyperparameter_svm = {\n",
    "# C : Coût d'erreur de classification ou la marge de tolérance du modèle relative aux erreurs de classification.\n",
    "# Lorsque nous augmentons la valeur C, la marge diminue. Ainsi, les modèles avec des valeurs de C faibles ont tendance à être plus généralisés.\n",
    "'C': 30,\n",
    "\n",
    "    # kernel : Type de noyau utilisé. Lorsque le SVM n'est pas performant, un autre noyau pourra être utilisé pour projéter les données dans une nouvelle dimension ou nouvel espace.\n",
    "'kernel': 'linear',\n",
    "\n",
    "    # gamma : hyperparamètre utilisé avec SVM non linéaire. De faibles valeurs de gamma indiquent un grand rayon de similarité qui se traduit par le regroupement de plus de points.\n",
    "# Pour des valeurs élevées de gamma, les points doivent être très proches les uns des autres afin d'être considérés dans le même groupe (ou classe).\n",
    "# Par conséquent, les modèles avec des valeurs gamma très élevées ont tendance à se sur-ajuster.\n",
    "'gamma' : 7,\n",
    "\n",
    "    #random_state : permet d'avoir des résultats reproductibles.\n",
    "'random_state' : 10\n",
    "}\n",
    "\n",
    "#Pour plus de détails sur l'explication de ces paramètres, voir le lien ci-dessous.\n",
    "#https://scikit-learn.org/stable/modules/generated/sklearn.svm.SVC.html"
   ]
  },
  {
   "cell_type": "code",
   "execution_count": 37,
   "metadata": {},
   "outputs": [
    {
     "data": {
      "text/plain": [
       "SVC(C=30, gamma=7, kernel='linear', probability=True, random_state=10)"
      ]
     },
     "execution_count": 37,
     "metadata": {},
     "output_type": "execute_result"
    }
   ],
   "source": [
    "# Affectation des paramètres\n",
    "svm_modele.set_params(**hyperparameter_svm)"
   ]
  },
  {
   "cell_type": "markdown",
   "metadata": {},
   "source": [
    "-Estimation du modèle SVM"
   ]
  },
  {
   "cell_type": "code",
   "execution_count": 38,
   "metadata": {},
   "outputs": [
    {
     "data": {
      "text/plain": [
       "SVC(C=30, gamma=7, kernel='linear', probability=True, random_state=10)"
      ]
     },
     "execution_count": 38,
     "metadata": {},
     "output_type": "execute_result"
    }
   ],
   "source": [
    "svm_modele.fit(x_train, y_train)"
   ]
  },
  {
   "cell_type": "markdown",
   "metadata": {},
   "source": [
    "-Performance du modèle sur la base de train"
   ]
  },
  {
   "cell_type": "code",
   "execution_count": 39,
   "metadata": {},
   "outputs": [
    {
     "name": "stdout",
     "output_type": "stream",
     "text": [
      "\u001b[1m\n",
      "===============================[EVALUATION DU MODELE : SVM SUR LE DATASET : Train]===============================\n",
      "1. MATRIC DE CONFUSION :\n",
      "[[219 186]\n",
      " [123 544]]\n",
      "\n",
      "2-1. ACCURACY SCORE : 71%\n",
      "\n",
      "2-2. TAUX D'ERREUR : 29%\n",
      "\n",
      "3. AUC : 77%\n",
      "\u001b[1m===============================[FIN EVALUATION DU MODELE : SVM SUR LE DATASET : Train]===============================\u001b[0m\n"
     ]
    }
   ],
   "source": [
    "roc_auc_svm_train, fpr_svm_train, tpr_svm_train = performance_modele( modele_name = \"SVM\",\n",
    "                                                                        modele = svm_modele,\n",
    "                                                                        dataset_name = \"Train\",\n",
    "                                                                        x_dataset = x_train,\n",
    "                                                                        y_dataset = y_train)"
   ]
  },
  {
   "cell_type": "markdown",
   "metadata": {},
   "source": [
    "-Performance du modèle sur la base de test"
   ]
  },
  {
   "cell_type": "code",
   "execution_count": 40,
   "metadata": {},
   "outputs": [
    {
     "name": "stdout",
     "output_type": "stream",
     "text": [
      "\u001b[1m\n",
      "===============================[EVALUATION DU MODELE : SVM SUR LE DATASET : Test]===============================\n",
      "1. MATRIC DE CONFUSION :\n",
      "[[ 57  47]\n",
      " [ 30 134]]\n",
      "\n",
      "2-1. ACCURACY SCORE : 71%\n",
      "\n",
      "2-2. TAUX D'ERREUR : 29%\n",
      "\n",
      "3. AUC : 77%\n",
      "\u001b[1m===============================[FIN EVALUATION DU MODELE : SVM SUR LE DATASET : Test]===============================\u001b[0m\n"
     ]
    }
   ],
   "source": [
    "roc_auc_svm_test, fpr_svm_test, tpr_svm_test = performance_modele( modele_name = \"SVM\",\n",
    "                                                                        modele = svm_modele,\n",
    "                                                                        dataset_name = \"Test\",\n",
    "                                                                        x_dataset = x_test,\n",
    "                                                                        y_dataset = y_test)"
   ]
  },
  {
   "cell_type": "markdown",
   "metadata": {},
   "source": [
    "Conclusion : \\ Le modèle de régression logistique est meilleur que le modèle de SVM notamment sur la base de test."
   ]
  },
  {
   "cell_type": "markdown",
   "metadata": {},
   "source": [
    "# - Comparaison de modèles"
   ]
  },
  {
   "cell_type": "markdown",
   "metadata": {},
   "source": [
    "-Courbe de roc sur la base train"
   ]
  },
  {
   "cell_type": "code",
   "execution_count": 41,
   "metadata": {},
   "outputs": [
    {
     "data": {
      "text/plain": [
       "<Figure size 2000x1000 with 0 Axes>"
      ]
     },
     "metadata": {},
     "output_type": "display_data"
    }
   ],
   "source": [
    "#-Rétablir les paramètres d'affichage par défaut\n",
    "import matplotlib as mpl\n",
    "mpl.rcParams.update(mpl.rcParamsDefault)\n",
    "\n",
    "#Paramètre du graphique\n",
    "plt.figure(figsize = (20,10))\n",
    "lw = 2;"
   ]
  },
  {
   "cell_type": "code",
   "execution_count": 42,
   "metadata": {},
   "outputs": [
    {
     "data": {
      "image/png": "[encoded data removed]",
      "text/plain": [
       "<Figure size 640x480 with 1 Axes>"
      ]
     },
     "metadata": {},
     "output_type": "display_data"
    }
   ],
   "source": [
    "#LOGISTIQUE : BASE TRAIN\n",
    "#La ligne trace la courbe de ROC du modèle de Régression Logistique\n",
    "plt.plot(fpr_logit_train, tpr_logit_train, color='blue', lw=lw, label='Logistique (AUC TRAIN = %0.2f)' % roc_auc_logit_train)\n",
    "\n",
    "#LGBM : BASE TRAIN\n",
    "#La ligne trace la courbe de ROC du modèle LGBM\n",
    "plt.plot(fpr_lgbm_train, tpr_lgbm_train, color='green', lw=lw, label='LGBM (AUC TRAIN = %0.2f)' % roc_auc_lgbm_train)\n",
    "\n",
    "#RF : BASE TRAIN\n",
    "#La ligne trace la courbe de ROC du modèle de Random Forest\n",
    "plt.plot(fpr_rf_train, tpr_rf_train, color='red', lw=lw, label='RF (AUC TRAIN = %0.2f)' % roc_auc_rf_train)\n",
    "\n",
    "#SVM : BASE TRAIN\n",
    "#La ligne trace la courbe de ROC du modèle du SVM\n",
    "plt.plot(fpr_svm_train, tpr_svm_train, color='black', lw=lw, label='SVM (AUC TRAIN = %0.2f)' % roc_auc_svm_train)\n",
    "\n",
    "#ECHELLE DES GRAPHIQUES\n",
    "plt.plot([0, 1], [0, 1], color='navy', lw=lw, linestyle='--')\n",
    "\n",
    "#TITRE DES GRAPHIQUES\n",
    "plt.xlabel('False Positive Rate') #titre de l'axe x\n",
    "plt.ylabel('True Positive Rate') #titre de l'axe y\n",
    "plt.title('ROC CURVE IN TRAIN DATA BASE') #titre du graphique\n",
    "plt.legend(loc=\"lower right\") #affichage de la légende\n",
    "\n",
    "#AFFICHAGE DU GRAPHIQUE\n",
    "plt.show()"
   ]
  },
  {
   "cell_type": "markdown",
   "metadata": {},
   "source": [
    "Conclusion : les meilleurs modèles sur la base train est le Boosting (LGBM)."
   ]
  },
  {
   "cell_type": "markdown",
   "metadata": {},
   "source": [
    "-Courbe de roc sur la base test"
   ]
  },
  {
   "cell_type": "code",
   "execution_count": 43,
   "metadata": {},
   "outputs": [
    {
     "data": {
      "image/png": "[encoded data removed]",
      "text/plain": [
       "<Figure size 640x480 with 1 Axes>"
      ]
     },
     "metadata": {},
     "output_type": "display_data"
    }
   ],
   "source": [
    "#LOGISTIQUE : BASE TEST\n",
    "#La ligne trace la courbe de ROC du modèle de Régression Logistique\n",
    "plt.plot(fpr_logit_test, tpr_logit_test, color='blue', lw=lw, label='Logistique (AUC TEST = %0.2f)' % roc_auc_logit_test)\n",
    "\n",
    "#LGBM : BASE TEST\n",
    "#La ligne trace la courbe de ROC du modèle LGBM\n",
    "plt.plot(fpr_lgbm_test, tpr_lgbm_test, color='green', lw=lw, label='LGBM (AUC TEST = %0.2f)' % roc_auc_lgbm_test)\n",
    "\n",
    "#RF : BASE TEST\n",
    "#La ligne trace la courbe de ROC du modèle de Random Forest\n",
    "plt.plot(fpr_rf_test, tpr_rf_test, color='red', lw=lw, label='RF (AUC TEST = %0.2f)' % roc_auc_rf_test)\n",
    "\n",
    "#SVM : BASE TEST\n",
    "#La ligne trace la courbe de ROC du modèle du SVM\n",
    "plt.plot(fpr_svm_test, tpr_svm_test, color='black', lw=lw, label='SVM (AUC TEST = %0.2f)' % roc_auc_svm_test)\n",
    "\n",
    "#ECHELLE DES GRAPHIQUES\n",
    "plt.plot([0, 1], [0, 1], color='navy', lw=lw, linestyle='--')\n",
    "\n",
    "#TITRE DES GRAPHIQUES\n",
    "plt.xlabel('False Positive Rate') #titre de l'axe x\n",
    "plt.ylabel('True Positive Rate') #titre de l'axe y\n",
    "plt.title('ROC CURVE IN TEST DATA BASE') #titre du graphique\n",
    "plt.legend(loc=\"lower right\") #affichage de la légende\n",
    "\n",
    "#AFFICHAGE DU GRAPHIQUE\n",
    "plt.show()"
   ]
  },
  {
   "cell_type": "markdown",
   "metadata": {},
   "source": [
    "Conclusion : les meilleurs modèles sur la base test est la Regression Logistique.\n"
   ]
  },
  {
   "cell_type": "markdown",
   "metadata": {},
   "source": [
    "# -Choix du meilleur modèle : REGRESSION LOG"
   ]
  },
  {
   "cell_type": "markdown",
   "metadata": {},
   "source": [
    "# SCORING (avec le modèle retenu : Regression Logistique)"
   ]
  },
  {
   "cell_type": "markdown",
   "metadata": {},
   "source": [
    "-Importance des variables dans le modèle"
   ]
  },
  {
   "cell_type": "code",
   "execution_count": 44,
   "metadata": {},
   "outputs": [
    {
     "name": "stdout",
     "output_type": "stream",
     "text": [
      "[[0.82300438 0.63086719 0.21493939 0.24498527 1.58061867 0.1303959\n",
      "  0.63537547 0.48595819 0.23316039 0.08449694 2.21168079 0.30681197\n",
      "  0.05895904 0.16941904 0.46987598 0.79114463 0.40989063 0.72332772\n",
      "  0.65665169]]\n"
     ]
    }
   ],
   "source": [
    "import numpy as np    \n",
    "from sklearn.linear_model import LogisticRegression\n",
    "\n",
    "weights = logistic_modele.coef_\n",
    "abs_weights = np.abs(weights)\n",
    "\n",
    "\n",
    "print(abs_weights)\n",
    "\n",
    "\n"
   ]
  },
  {
   "cell_type": "code",
   "execution_count": 45,
   "metadata": {},
   "outputs": [
    {
     "ename": "NameError",
     "evalue": "name 'X' is not defined",
     "output_type": "error",
     "traceback": [
      "\u001b[1;31m---------------------------------------------------------------------------\u001b[0m",
      "\u001b[1;31mNameError\u001b[0m                                 Traceback (most recent call last)",
      "\u001b[1;32m<ipython-input-45-7d5ec2cbaf72>\u001b[0m in \u001b[0;36m<module>\u001b[1;34m\u001b[0m\n\u001b[0;32m      2\u001b[0m \u001b[1;33m\u001b[0m\u001b[0m\n\u001b[0;32m      3\u001b[0m \u001b[0mpca\u001b[0m \u001b[1;33m=\u001b[0m \u001b[0mPCA\u001b[0m\u001b[1;33m(\u001b[0m\u001b[0mn_components\u001b[0m\u001b[1;33m=\u001b[0m\u001b[1;36m3\u001b[0m\u001b[1;33m)\u001b[0m\u001b[1;33m\u001b[0m\u001b[1;33m\u001b[0m\u001b[0m\n\u001b[1;32m----> 4\u001b[1;33m \u001b[0mfit\u001b[0m \u001b[1;33m=\u001b[0m \u001b[0mpca\u001b[0m\u001b[1;33m.\u001b[0m\u001b[0mfit\u001b[0m\u001b[1;33m(\u001b[0m\u001b[0mX\u001b[0m\u001b[1;33m)\u001b[0m\u001b[1;33m\u001b[0m\u001b[1;33m\u001b[0m\u001b[0m\n\u001b[0m\u001b[0;32m      5\u001b[0m \u001b[1;31m# summarize components\u001b[0m\u001b[1;33m\u001b[0m\u001b[1;33m\u001b[0m\u001b[1;33m\u001b[0m\u001b[0m\n\u001b[0;32m      6\u001b[0m \u001b[0mprint\u001b[0m\u001b[1;33m(\u001b[0m\u001b[1;34m\"Explained Variance: %s\"\u001b[0m \u001b[1;33m%\u001b[0m \u001b[0mfit\u001b[0m\u001b[1;33m.\u001b[0m\u001b[0mexplained_variance_ratio_\u001b[0m\u001b[1;33m)\u001b[0m\u001b[1;33m\u001b[0m\u001b[1;33m\u001b[0m\u001b[0m\n",
      "\u001b[1;31mNameError\u001b[0m: name 'X' is not defined"
     ]
    }
   ],
   "source": [
    "from sklearn.decomposition import PCA\n",
    "\n",
    "pca = PCA(n_components=3)\n",
    "fit = pca.fit(X)\n",
    "# summarize components\n",
    "print(\"Explained Variance: %s\" % fit.explained_variance_ratio_)\n",
    "print(fit.components_)"
   ]
  },
  {
   "cell_type": "markdown",
   "metadata": {},
   "source": [
    "- Nous voulions remplacer \"rf_modele\" par \"logistic_modele\" afin de séléctionner la régression logistique comme notre modèle principal mais nous nous hertons à beaucoup de problèmes et d'erreurs, nous restons ainsi à rf_modele comme indiqué dans le tp.\n",
    "- On peut voir que 3 composantes se dégagent pr expliquer le phénomène étudié."
   ]
  },
  {
   "cell_type": "code",
   "execution_count": null,
   "metadata": {},
   "outputs": [],
   "source": [
    "# But du code : l'attribut feature_importances_ du modèle de sklearn rf_modele permet de savoir l'importance des variables.\n",
    "# En d'autres termes, nous pourrions connaître la contribution de chaque variable dans l'évaluation de la réponse Y (1 : longévité de plus de 5 ans vs 0 sinon).\n",
    "feat_importances = pd.Series(rf_modele.feature_importances_, index = features)\n",
    "\n",
    "# Trier l'importance par ordre décroissant.\n",
    "feat_importances = feat_importances.sort_values(ascending=True)\n",
    "\n",
    "# Afficher le graphique.\n",
    "feat_importances.plot(kind='barh')"
   ]
  },
  {
   "cell_type": "markdown",
   "metadata": {},
   "source": [
    "Conclusion :\n",
    "Les matchs joués X4, les rebons X13, les points par matchs X6, les tirs réalisés X7 et les minutes jouées X5   sont les informations les plus pertinentes qui seront utiliséee pour étudier la\n",
    "longévité de la carrière d'un basketteur professionnel. "
   ]
  },
  {
   "cell_type": "markdown",
   "metadata": {},
   "source": [
    "# - Calcul du Score"
   ]
  },
  {
   "cell_type": "markdown",
   "metadata": {},
   "source": [
    "A- Reponse du modèle"
   ]
  },
  {
   "cell_type": "code",
   "execution_count": null,
   "metadata": {},
   "outputs": [],
   "source": [
    "db_train_na = db_train.isnull().sum() \n",
    "print(db_train_na.sort_values(ascending=False))\n",
    "\n",
    "na_values = {\n",
    "'X3': db_train[\"X3\"].mode()[0]}\n",
    "\n",
    "db_train = db_train.fillna(value=na_values)"
   ]
  },
  {
   "cell_type": "code",
   "execution_count": null,
   "metadata": {},
   "outputs": [],
   "source": [
    "# Generate test predictions : le modèle donnant comme réponse 1 (Y=1) pour une carrière supérieure à 5 ans, et 0 sinon (Y=0).\n",
    "y_pred = rf_modele.predict(db_train[features])\n",
    "\n",
    "#Affichage de la réponse du modèle des 5 premiers individus\n",
    "y_pred[:5]"
   ]
  },
  {
   "cell_type": "markdown",
   "metadata": {},
   "source": [
    "B- Score du modèle"
   ]
  },
  {
   "cell_type": "code",
   "execution_count": null,
   "metadata": {},
   "outputs": [],
   "source": [
    "# Generate test predictions : le modèle donnant comme réponse la probabilité que Y = 1, donc, la probabilité de logévité de plus de 5 ans de carrière.\n",
    "y_proba_pred = rf_modele.predict_proba(db_train[features])[:, 1]\n",
    "\n",
    "#Affichage du score des 5 premiers individus\n",
    "y_proba_pred[:5]"
   ]
  },
  {
   "cell_type": "markdown",
   "metadata": {},
   "source": [
    "C- Les basketteurs de la base d'apprentissage (train)"
   ]
  },
  {
   "cell_type": "code",
   "execution_count": null,
   "metadata": {},
   "outputs": [],
   "source": [
    "# output_train contient l'identifiant de chaque joueur de la base train. Et pour chaque joueur,\n",
    "# la variable Y (Carrière), le résultat du modèle (REPONSE_RL) et le score (SCORE_RL) est renseignée.\n",
    "\n",
    "output_train = pd.DataFrame({ 'Id': db_train.index,\n",
    "                                'Y' : db_train.Y,\n",
    "                                'REPONSE_RL': y_pred,\n",
    "                                'SCORE_RL': y_proba_pred\n",
    "                    })\n",
    "# Affichage des premiers clients de\n",
    "output_train.head()"
   ]
  },
  {
   "cell_type": "markdown",
   "metadata": {},
   "source": [
    "# -Rating (note ou classe)"
   ]
  },
  {
   "cell_type": "markdown",
   "metadata": {},
   "source": [
    "A- Creation du rating"
   ]
  },
  {
   "cell_type": "markdown",
   "metadata": {},
   "source": [
    "Le rating est la note ou classe associée à chaque joueur qui mesure la probabilité qu’un joueur ne fasse pas plus de 5 ans de carrière. \\ Les joueurs les plus constants, donc aptes à joueur plus longtemps, sont les joueurs ayant la note 1.\\ Ensuite, nous avons les joueurs ayant la note 0 qui font moins de 5 ans de carrière. "
   ]
  },
  {
   "cell_type": "code",
   "execution_count": null,
   "metadata": {},
   "outputs": [],
   "source": [
    "# Le rating représenté par la variable RATING_RF est obtenu en découpant le score (SCORE_RF).\n",
    "# En d’autres termes, on transforme la variable SCORE_RF en variable qualitative (groupe).\n",
    "# Ainsi, les basketteurs de rating A ont 50% de chance d'avoir plus de 5 ans de carrière\n",
    "\n",
    "output_train['RATING_RL'] = pd.cut(output_train['SCORE_RL'],\n",
    "                                bins=[0, 0.5, float('Inf')],\n",
    "                                labels=['B', 'A'])\n",
    "\n",
    "# Affichage des premiers clients\n",
    "output_train.head()"
   ]
  },
  {
   "cell_type": "code",
   "execution_count": null,
   "metadata": {},
   "outputs": [],
   "source": [
    "# But du code : Analyse descriptive de la variable RATING_RL\n",
    "\n",
    "plt.figure(figsize=(7,3))\n",
    "\n",
    "plt.subplots_adjust(wspace = 0.8)\n",
    "\n",
    "couleurs = [\"#d62728\", \"#ff7f0e\", \"#2ca02c\", \"#1f77b4\"]\n",
    "\n",
    "plt.subplot(1,2,1)\n",
    "\n",
    "sns.countplot(data = output_train, x = 'RATING_RL', palette = couleurs)\n",
    "plt.subplot(1,2,2)\n",
    "prop_df = (output_train['RATING_RL']\n",
    "        .value_counts(normalize=True)\n",
    "        .reset_index())\n",
    "\n",
    "sns.barplot(x='index', y='RATING_RL', data=prop_df, palette = couleurs)\n",
    "\n",
    "plt.show()"
   ]
  },
  {
   "cell_type": "markdown",
   "metadata": {},
   "source": [
    "B- Base Train Finale"
   ]
  },
  {
   "cell_type": "code",
   "execution_count": null,
   "metadata": {},
   "outputs": [],
   "source": [
    "# But du code : le but est d'ajouter les variables descriptives des clients de la table output_train.\n",
    "# En d'autre terme, on ajoute dans la base output_train, les variables X du client.\n",
    "\n",
    "# Pour rappel, dataset contient les données du fichier excel importé sous Python.\n",
    "# L'opération merge sélectionne les variables X (contenu dans cols_to_use) de la base dataset.\n",
    "# Ensuite, elle ajoute ces variables correspondantes à chaque client de la base output_train.\n",
    "\n",
    "cols_to_use = dataset.columns.difference(output_train.columns)\n",
    "\n",
    "output_train = output_train.merge(dataset[cols_to_use], how=\"inner\", left_index=True, right_index=True)\n",
    "\n",
    "output_train.head()"
   ]
  },
  {
   "cell_type": "markdown",
   "metadata": {},
   "source": [
    "-Analyse du Rating"
   ]
  },
  {
   "cell_type": "code",
   "execution_count": null,
   "metadata": {},
   "outputs": [],
   "source": [
    "pd.pivot_table(output_train[['RATING_RL','X4','X5']], index='RATING_RL', aggfunc='mean')"
   ]
  },
  {
   "cell_type": "markdown",
   "metadata": {},
   "source": [
    "On constate que le rating s'améliore quand le nombre de matchs joués et le nombre de minutes jouées augmentent. "
   ]
  },
  {
   "cell_type": "markdown",
   "metadata": {},
   "source": [
    "# FEATURE ENGINEERING"
   ]
  },
  {
   "cell_type": "code",
   "execution_count": null,
   "metadata": {},
   "outputs": [],
   "source": [
    "db_train_opt = db_train.copy() \n",
    "    \n",
    "db_test_opt = db_test.copy()\n"
   ]
  },
  {
   "cell_type": "code",
   "execution_count": null,
   "metadata": {},
   "outputs": [],
   "source": [
    "import numpy as np\n",
    "#Calcul les points marqués\n",
    "db_train_opt['POINTS MARQUES'] = db_train_opt['X1'] + db_train_opt['X10']\n",
    "\n",
    "#Calcul les tentatives offensives en match \n",
    "db_train_opt['TENTATIVES OFFENSIVES'] = db_train_opt['X2'] + db_train_opt['X8']+ db_train_opt['X11']\n",
    "\n",
    "#Calcul des interventions défensives en match \n",
    "db_train_opt['INTERVENTIONS DEFENSIVES'] = db_train_opt['X17'] + db_train_opt['X15']+ db_train_opt['X18']\n",
    "\n",
    "#Calcul des Gestes offensifs en match \n",
    "db_train_opt['GESTES OFFENSIFS'] = db_train_opt['X8'] + db_train_opt['X11']+ db_train_opt['X2']+ db_train_opt['X14']+ db_train_opt['X16']\n",
    "\n",
    "\n",
    "db_train_opt.head()\n"
   ]
  },
  {
   "cell_type": "code",
   "execution_count": null,
   "metadata": {},
   "outputs": [],
   "source": [
    "pd.pivot_table(db_train_opt[['POINTS MARQUES','TENTATIVES OFFENSIVES', 'INTERVENTIONS DEFENSIVES','GESTES OFFENSIFS', 'Y']], index='Y', aggfunc='mean')\n"
   ]
  },
  {
   "cell_type": "markdown",
   "metadata": {},
   "source": [
    "- On constate que les gestes offensifs sont supérieurs pr les basketteurs ayant fait plus de 5 ans de carrière \n",
    "- On constate que le nombre des tentatives offensives est supérieur chez les basketteurs ayant  fait plus de 5 ans de carrière\n",
    "- On constate que les interventions défensives sont supérieurs chez les basketteurs ayant fait plus de 5 ans de carrière\n"
   ]
  },
  {
   "cell_type": "code",
   "execution_count": null,
   "metadata": {},
   "outputs": [],
   "source": []
  }
 ],
 "metadata": {
  "kernelspec": {
   "display_name": "Python 3",
   "language": "python",
   "name": "python3"
  },
  "language_info": {
   "codemirror_mode": {
    "name": "ipython",
    "version": 3
   },
   "file_extension": ".py",
   "mimetype": "text/x-python",
   "name": "python",
   "nbconvert_exporter": "python",
   "pygments_lexer": "ipython3",
   "version": "3.8.5"
  }
 },
 "nbformat": 4,
 "nbformat_minor": 4
}
