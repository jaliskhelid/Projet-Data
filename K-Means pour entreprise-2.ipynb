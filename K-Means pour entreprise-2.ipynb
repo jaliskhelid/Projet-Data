{
 "cells": [
  {
   "cell_type": "markdown",
   "metadata": {},
   "source": [
    "# Segmentation client "
   ]
  },
  {
   "cell_type": "markdown",
   "metadata": {},
   "source": [
    "\n",
    "***Objectif est de rassembler les clients en groupes d’individus ayant des caractéristiques similaires ou mêmes profils.\n",
    "Stratégie qui permet de fidéliser un groupe spécifique de clients, d’attirer de nouveaux clients***\n",
    "\n",
    "Base de donnée disponible sur Kaggle\n",
    "\n"
   ]
  },
  {
   "cell_type": "markdown",
   "metadata": {},
   "source": [
    "## Segmentation client par K-Means"
   ]
  },
  {
   "cell_type": "code",
   "execution_count": 1,
   "metadata": {
    "scrolled": true
   },
   "outputs": [
    {
     "name": "stdout",
     "output_type": "stream",
     "text": [
      "Requirement already satisfied: kmodes in /opt/anaconda3/lib/python3.8/site-packages (0.11.0)\n",
      "Requirement already satisfied: joblib>=0.11 in /opt/anaconda3/lib/python3.8/site-packages (from kmodes) (0.17.0)\n",
      "Requirement already satisfied: scipy>=0.13.3 in /opt/anaconda3/lib/python3.8/site-packages (from kmodes) (1.5.2)\n",
      "Requirement already satisfied: scikit-learn>=0.22.0 in /opt/anaconda3/lib/python3.8/site-packages (from kmodes) (0.23.2)\n",
      "Requirement already satisfied: numpy>=1.10.4 in /opt/anaconda3/lib/python3.8/site-packages (from kmodes) (1.19.2)\n",
      "Requirement already satisfied: threadpoolctl>=2.0.0 in /opt/anaconda3/lib/python3.8/site-packages (from scikit-learn>=0.22.0->kmodes) (2.1.0)\n"
     ]
    }
   ],
   "source": [
    "import pandas as pd\n",
    "import numpy as np\n",
    "import matplotlib.pyplot as plt\n",
    "import seaborn as sns\n",
    "!pip install kmodes\n",
    "\n"
   ]
  },
  {
   "cell_type": "markdown",
   "metadata": {},
   "source": [
    "### Base de modélisation"
   ]
  },
  {
   "cell_type": "code",
   "execution_count": 8,
   "metadata": {},
   "outputs": [],
   "source": [
    "#Lecture des tables\n",
    "db = pd.read_excel(\"/Users/jalis/Downloads/customer.xlsx\" )"
   ]
  },
  {
   "cell_type": "markdown",
   "metadata": {},
   "source": [
    "#### Exploration de la table"
   ]
  },
  {
   "cell_type": "code",
   "execution_count": 12,
   "metadata": {},
   "outputs": [
    {
     "data": {
      "text/html": [
       "<div>\n",
       "<style scoped>\n",
       "    .dataframe tbody tr th:only-of-type {\n",
       "        vertical-align: middle;\n",
       "    }\n",
       "\n",
       "    .dataframe tbody tr th {\n",
       "        vertical-align: top;\n",
       "    }\n",
       "\n",
       "    .dataframe thead th {\n",
       "        text-align: right;\n",
       "    }\n",
       "</style>\n",
       "<table border=\"1\" class=\"dataframe\">\n",
       "  <thead>\n",
       "    <tr style=\"text-align: right;\">\n",
       "      <th></th>\n",
       "      <th>Gender</th>\n",
       "      <th>Age</th>\n",
       "      <th>Annual Income (k$)</th>\n",
       "      <th>Spending Score (1-100)</th>\n",
       "    </tr>\n",
       "  </thead>\n",
       "  <tbody>\n",
       "    <tr>\n",
       "      <th>0</th>\n",
       "      <td>Male</td>\n",
       "      <td>23</td>\n",
       "      <td>15</td>\n",
       "      <td>39</td>\n",
       "    </tr>\n",
       "    <tr>\n",
       "      <th>1</th>\n",
       "      <td>Male</td>\n",
       "      <td>25</td>\n",
       "      <td>15</td>\n",
       "      <td>81</td>\n",
       "    </tr>\n",
       "    <tr>\n",
       "      <th>2</th>\n",
       "      <td>Female</td>\n",
       "      <td>23</td>\n",
       "      <td>16</td>\n",
       "      <td>6</td>\n",
       "    </tr>\n",
       "    <tr>\n",
       "      <th>3</th>\n",
       "      <td>Female</td>\n",
       "      <td>26</td>\n",
       "      <td>16</td>\n",
       "      <td>77</td>\n",
       "    </tr>\n",
       "    <tr>\n",
       "      <th>4</th>\n",
       "      <td>Female</td>\n",
       "      <td>24</td>\n",
       "      <td>17</td>\n",
       "      <td>40</td>\n",
       "    </tr>\n",
       "  </tbody>\n",
       "</table>\n",
       "</div>"
      ],
      "text/plain": [
       "   Gender  Age  Annual Income (k$)  Spending Score (1-100)\n",
       "0    Male   23                  15                      39\n",
       "1    Male   25                  15                      81\n",
       "2  Female   23                  16                       6\n",
       "3  Female   26                  16                      77\n",
       "4  Female   24                  17                      40"
      ]
     },
     "execution_count": 12,
     "metadata": {},
     "output_type": "execute_result"
    }
   ],
   "source": [
    "db.head()"
   ]
  },
  {
   "cell_type": "code",
   "execution_count": 47,
   "metadata": {},
   "outputs": [
    {
     "data": {
      "text/plain": [
       "Gender                    0\n",
       "Age                       0\n",
       "Annual Income (k$)        0\n",
       "Spending Score (1-100)    0\n",
       "dtype: int64"
      ]
     },
     "execution_count": 47,
     "metadata": {},
     "output_type": "execute_result"
    }
   ],
   "source": [
    "#valeurs manquantes\n",
    "db.isnull().sum()"
   ]
  },
  {
   "cell_type": "markdown",
   "metadata": {},
   "source": [
    "### Analyse Exploratoire des Données\n"
   ]
  },
  {
   "cell_type": "markdown",
   "metadata": {},
   "source": [
    "**Analyse exploratoire**"
   ]
  },
  {
   "cell_type": "code",
   "execution_count": 13,
   "metadata": {},
   "outputs": [
    {
     "data": {
      "text/html": [
       "<div>\n",
       "<style scoped>\n",
       "    .dataframe tbody tr th:only-of-type {\n",
       "        vertical-align: middle;\n",
       "    }\n",
       "\n",
       "    .dataframe tbody tr th {\n",
       "        vertical-align: top;\n",
       "    }\n",
       "\n",
       "    .dataframe thead th {\n",
       "        text-align: right;\n",
       "    }\n",
       "</style>\n",
       "<table border=\"1\" class=\"dataframe\">\n",
       "  <thead>\n",
       "    <tr style=\"text-align: right;\">\n",
       "      <th></th>\n",
       "      <th>Age</th>\n",
       "      <th>Annual Income (k$)</th>\n",
       "      <th>Spending Score (1-100)</th>\n",
       "    </tr>\n",
       "  </thead>\n",
       "  <tbody>\n",
       "    <tr>\n",
       "      <th>count</th>\n",
       "      <td>200.000000</td>\n",
       "      <td>200.000000</td>\n",
       "      <td>200.000000</td>\n",
       "    </tr>\n",
       "    <tr>\n",
       "      <th>mean</th>\n",
       "      <td>43.245000</td>\n",
       "      <td>60.560000</td>\n",
       "      <td>50.200000</td>\n",
       "    </tr>\n",
       "    <tr>\n",
       "      <th>std</th>\n",
       "      <td>11.495902</td>\n",
       "      <td>26.264721</td>\n",
       "      <td>25.823522</td>\n",
       "    </tr>\n",
       "    <tr>\n",
       "      <th>min</th>\n",
       "      <td>22.000000</td>\n",
       "      <td>15.000000</td>\n",
       "      <td>1.000000</td>\n",
       "    </tr>\n",
       "    <tr>\n",
       "      <th>25%</th>\n",
       "      <td>41.000000</td>\n",
       "      <td>41.500000</td>\n",
       "      <td>34.750000</td>\n",
       "    </tr>\n",
       "    <tr>\n",
       "      <th>50%</th>\n",
       "      <td>44.000000</td>\n",
       "      <td>61.500000</td>\n",
       "      <td>50.000000</td>\n",
       "    </tr>\n",
       "    <tr>\n",
       "      <th>75%</th>\n",
       "      <td>47.250000</td>\n",
       "      <td>78.000000</td>\n",
       "      <td>73.000000</td>\n",
       "    </tr>\n",
       "    <tr>\n",
       "      <th>max</th>\n",
       "      <td>65.000000</td>\n",
       "      <td>137.000000</td>\n",
       "      <td>99.000000</td>\n",
       "    </tr>\n",
       "  </tbody>\n",
       "</table>\n",
       "</div>"
      ],
      "text/plain": [
       "              Age  Annual Income (k$)  Spending Score (1-100)\n",
       "count  200.000000          200.000000              200.000000\n",
       "mean    43.245000           60.560000               50.200000\n",
       "std     11.495902           26.264721               25.823522\n",
       "min     22.000000           15.000000                1.000000\n",
       "25%     41.000000           41.500000               34.750000\n",
       "50%     44.000000           61.500000               50.000000\n",
       "75%     47.250000           78.000000               73.000000\n",
       "max     65.000000          137.000000               99.000000"
      ]
     },
     "execution_count": 13,
     "metadata": {},
     "output_type": "execute_result"
    }
   ],
   "source": [
    "#Description de la table\n",
    "db.describe()"
   ]
  },
  {
   "cell_type": "markdown",
   "metadata": {},
   "source": [
    "**Analyser la distribution de la variable Age**"
   ]
  },
  {
   "cell_type": "code",
   "execution_count": 17,
   "metadata": {},
   "outputs": [
    {
     "data": {
      "image/png": "[encoded data removed]",
      "text/plain": [
       "<Figure size 2160x720 with 1 Axes>"
      ]
     },
     "metadata": {
      "needs_background": "light"
     },
     "output_type": "display_data"
    }
   ],
   "source": [
    "#Distribution\n",
    "plt.figure(figsize=(30, 10))\n",
    "db.boxplot(column='Annual Income (k$)', vert = False )\n",
    "plt.title(\"Distribution de l'âge de client\", fontsize = 18)\n",
    "plt.show()\n",
    "\n"
   ]
  },
  {
   "cell_type": "markdown",
   "metadata": {},
   "source": [
    "50% gagne en dessous de 60K\n",
    "Le revenu minimal est de 15k"
   ]
  },
  {
   "cell_type": "code",
   "execution_count": 18,
   "metadata": {},
   "outputs": [
    {
     "name": "stdout",
     "output_type": "stream",
     "text": [
      "\u001b[1mAnalyse de l'âge du client\u001b[0m\n"
     ]
    },
    {
     "data": {
      "image/png": "[encoded data removed]",
      "text/plain": [
       "<Figure size 720x288 with 1 Axes>"
      ]
     },
     "metadata": {
      "needs_background": "light"
     },
     "output_type": "display_data"
    }
   ],
   "source": [
    "plt.figure(figsize=(10, 4))\n",
    "\n",
    "print(color.BOLD + \"Analyse de l'âge du client\" + color.END)\n",
    "\n",
    "#Distribution\n",
    "db['Age'].hist(bins = 100);\n"
   ]
  },
  {
   "cell_type": "markdown",
   "metadata": {},
   "source": [
    "3 grosses fourchettes d'âge. 20-30ans/40-50ans/+50ans"
   ]
  },
  {
   "cell_type": "markdown",
   "metadata": {},
   "source": [
    "**Analyser la distribution de la variable Gender**"
   ]
  },
  {
   "cell_type": "code",
   "execution_count": 19,
   "metadata": {},
   "outputs": [
    {
     "data": {
      "text/plain": [
       "<AxesSubplot:xlabel='Gender', ylabel='count'>"
      ]
     },
     "execution_count": 19,
     "metadata": {},
     "output_type": "execute_result"
    },
    {
     "data": {
      "image/png": "[encoded data removed]",
      "text/plain": [
       "<Figure size 432x288 with 1 Axes>"
      ]
     },
     "metadata": {
      "needs_background": "light"
     },
     "output_type": "display_data"
    }
   ],
   "source": [
    "sns.countplot(x=\"Gender\", hue=None, data=db)"
   ]
  },
  {
   "cell_type": "markdown",
   "metadata": {},
   "source": [
    "**Analyse bivariée**"
   ]
  },
  {
   "cell_type": "code",
   "execution_count": 52,
   "metadata": {},
   "outputs": [
    {
     "data": {
      "image/png": "[encoded data removed]",
      "text/plain": [
       "<Figure size 1440x576 with 1 Axes>"
      ]
     },
     "metadata": {},
     "output_type": "display_data"
    }
   ],
   "source": [
    "plt.figure(figsize=(20, 8))\n",
    "sb.scatterplot(x=db['Age'], y=db['Annual Income (k$)'], hue=db['Gender']);"
   ]
  },
  {
   "cell_type": "markdown",
   "metadata": {},
   "source": [
    "3 classes différentes, ceux qui ont entre 20 et 30 ans gagnes moins que les autres. Les hommes gagnent plus que les femmes."
   ]
  },
  {
   "cell_type": "code",
   "execution_count": 53,
   "metadata": {},
   "outputs": [
    {
     "data": {
      "text/html": [
       "<div>\n",
       "<style scoped>\n",
       "    .dataframe tbody tr th:only-of-type {\n",
       "        vertical-align: middle;\n",
       "    }\n",
       "\n",
       "    .dataframe tbody tr th {\n",
       "        vertical-align: top;\n",
       "    }\n",
       "\n",
       "    .dataframe thead th {\n",
       "        text-align: right;\n",
       "    }\n",
       "</style>\n",
       "<table border=\"1\" class=\"dataframe\">\n",
       "  <thead>\n",
       "    <tr style=\"text-align: right;\">\n",
       "      <th></th>\n",
       "      <th>Age</th>\n",
       "      <th>Annual Income (k$)</th>\n",
       "      <th>Spending Score (1-100)</th>\n",
       "    </tr>\n",
       "    <tr>\n",
       "      <th>Gender</th>\n",
       "      <th></th>\n",
       "      <th></th>\n",
       "      <th></th>\n",
       "    </tr>\n",
       "  </thead>\n",
       "  <tbody>\n",
       "    <tr>\n",
       "      <th>Female</th>\n",
       "      <td>42.473214</td>\n",
       "      <td>59.250000</td>\n",
       "      <td>51.526786</td>\n",
       "    </tr>\n",
       "    <tr>\n",
       "      <th>Male</th>\n",
       "      <td>44.227273</td>\n",
       "      <td>62.227273</td>\n",
       "      <td>48.511364</td>\n",
       "    </tr>\n",
       "  </tbody>\n",
       "</table>\n",
       "</div>"
      ],
      "text/plain": [
       "              Age  Annual Income (k$)  Spending Score (1-100)\n",
       "Gender                                                       \n",
       "Female  42.473214           59.250000               51.526786\n",
       "Male    44.227273           62.227273               48.511364"
      ]
     },
     "execution_count": 53,
     "metadata": {},
     "output_type": "execute_result"
    }
   ],
   "source": [
    "table = pd.pivot_table(db, index='Gender', aggfunc='mean')\n",
    "table"
   ]
  },
  {
   "cell_type": "markdown",
   "metadata": {},
   "source": [
    "La moyenne d'age des femmes est inférieure à celle des hommes. La moyenne des revenus des hommes est supérieure à celle des femmes mais les femmes dépensent plus que les hommes."
   ]
  },
  {
   "cell_type": "markdown",
   "metadata": {},
   "source": [
    "**Analyse des correlations**"
   ]
  },
  {
   "cell_type": "code",
   "execution_count": 20,
   "metadata": {},
   "outputs": [
    {
     "data": {
      "text/plain": [
       "<AxesSubplot:>"
      ]
     },
     "execution_count": 20,
     "metadata": {},
     "output_type": "execute_result"
    },
    {
     "data": {
      "image/png": "[encoded data removed]",
      "text/plain": [
       "<Figure size 432x288 with 2 Axes>"
      ]
     },
     "metadata": {
      "needs_background": "light"
     },
     "output_type": "display_data"
    }
   ],
   "source": [
    "sns.heatmap(db.corr(), annot=True, cmap=\"coolwarm\")\n",
    "\n"
   ]
  },
  {
   "cell_type": "markdown",
   "metadata": {},
   "source": [
    "Un lien entre l'age et le revenu annuel"
   ]
  },
  {
   "cell_type": "code",
   "execution_count": 55,
   "metadata": {},
   "outputs": [
    {
     "data": {
      "image/png": "[encoded data removed]",
      "text/plain": [
       "<Figure size 540x540 with 12 Axes>"
      ]
     },
     "metadata": {},
     "output_type": "display_data"
    }
   ],
   "source": [
    "sb.set()\n",
    "sb.pairplot(db);"
   ]
  },
  {
   "cell_type": "markdown",
   "metadata": {},
   "source": [
    "on peut voir une corrélation entre le revenu et l'age et entre les dépenses et le revenu."
   ]
  },
  {
   "cell_type": "markdown",
   "metadata": {},
   "source": [
    "# 5. Construction du modèle"
   ]
  },
  {
   "cell_type": "markdown",
   "metadata": {},
   "source": [
    "##  Data Processing"
   ]
  },
  {
   "cell_type": "markdown",
   "metadata": {},
   "source": [
    "#### base de modélisation"
   ]
  },
  {
   "cell_type": "code",
   "execution_count": 23,
   "metadata": {},
   "outputs": [],
   "source": [
    "db_mod = db.copy()"
   ]
  },
  {
   "cell_type": "markdown",
   "metadata": {},
   "source": [
    "#### standardisation"
   ]
  },
  {
   "cell_type": "code",
   "execution_count": 24,
   "metadata": {},
   "outputs": [],
   "source": [
    "from sklearn.preprocessing import StandardScaler\n",
    "scaler = StandardScaler()\n",
    "#Le but étant de normaliser les variables"
   ]
  },
  {
   "cell_type": "code",
   "execution_count": 25,
   "metadata": {},
   "outputs": [
    {
     "data": {
      "text/html": [
       "<div>\n",
       "<style scoped>\n",
       "    .dataframe tbody tr th:only-of-type {\n",
       "        vertical-align: middle;\n",
       "    }\n",
       "\n",
       "    .dataframe tbody tr th {\n",
       "        vertical-align: top;\n",
       "    }\n",
       "\n",
       "    .dataframe thead th {\n",
       "        text-align: right;\n",
       "    }\n",
       "</style>\n",
       "<table border=\"1\" class=\"dataframe\">\n",
       "  <thead>\n",
       "    <tr style=\"text-align: right;\">\n",
       "      <th></th>\n",
       "      <th>Gender</th>\n",
       "      <th>Age</th>\n",
       "      <th>Annual Income (k$)</th>\n",
       "      <th>Spending Score (1-100)</th>\n",
       "    </tr>\n",
       "  </thead>\n",
       "  <tbody>\n",
       "    <tr>\n",
       "      <th>0</th>\n",
       "      <td>Male</td>\n",
       "      <td>-1.765482</td>\n",
       "      <td>-1.738999</td>\n",
       "      <td>-0.434801</td>\n",
       "    </tr>\n",
       "    <tr>\n",
       "      <th>1</th>\n",
       "      <td>Male</td>\n",
       "      <td>-1.591070</td>\n",
       "      <td>-1.738999</td>\n",
       "      <td>1.195704</td>\n",
       "    </tr>\n",
       "    <tr>\n",
       "      <th>2</th>\n",
       "      <td>Female</td>\n",
       "      <td>-1.765482</td>\n",
       "      <td>-1.700830</td>\n",
       "      <td>-1.715913</td>\n",
       "    </tr>\n",
       "    <tr>\n",
       "      <th>3</th>\n",
       "      <td>Female</td>\n",
       "      <td>-1.503864</td>\n",
       "      <td>-1.700830</td>\n",
       "      <td>1.040418</td>\n",
       "    </tr>\n",
       "    <tr>\n",
       "      <th>4</th>\n",
       "      <td>Female</td>\n",
       "      <td>-1.678276</td>\n",
       "      <td>-1.662660</td>\n",
       "      <td>-0.395980</td>\n",
       "    </tr>\n",
       "    <tr>\n",
       "      <th>...</th>\n",
       "      <td>...</td>\n",
       "      <td>...</td>\n",
       "      <td>...</td>\n",
       "      <td>...</td>\n",
       "    </tr>\n",
       "    <tr>\n",
       "      <th>195</th>\n",
       "      <td>Female</td>\n",
       "      <td>0.414664</td>\n",
       "      <td>2.268791</td>\n",
       "      <td>1.118061</td>\n",
       "    </tr>\n",
       "    <tr>\n",
       "      <th>196</th>\n",
       "      <td>Female</td>\n",
       "      <td>1.373928</td>\n",
       "      <td>2.497807</td>\n",
       "      <td>-0.861839</td>\n",
       "    </tr>\n",
       "    <tr>\n",
       "      <th>197</th>\n",
       "      <td>Male</td>\n",
       "      <td>-0.108571</td>\n",
       "      <td>2.497807</td>\n",
       "      <td>0.923953</td>\n",
       "    </tr>\n",
       "    <tr>\n",
       "      <th>198</th>\n",
       "      <td>Male</td>\n",
       "      <td>1.461133</td>\n",
       "      <td>2.917671</td>\n",
       "      <td>-1.250054</td>\n",
       "    </tr>\n",
       "    <tr>\n",
       "      <th>199</th>\n",
       "      <td>Male</td>\n",
       "      <td>0.240252</td>\n",
       "      <td>2.917671</td>\n",
       "      <td>1.273347</td>\n",
       "    </tr>\n",
       "  </tbody>\n",
       "</table>\n",
       "<p>200 rows × 4 columns</p>\n",
       "</div>"
      ],
      "text/plain": [
       "     Gender       Age  Annual Income (k$)  Spending Score (1-100)\n",
       "0      Male -1.765482           -1.738999               -0.434801\n",
       "1      Male -1.591070           -1.738999                1.195704\n",
       "2    Female -1.765482           -1.700830               -1.715913\n",
       "3    Female -1.503864           -1.700830                1.040418\n",
       "4    Female -1.678276           -1.662660               -0.395980\n",
       "..      ...       ...                 ...                     ...\n",
       "195  Female  0.414664            2.268791                1.118061\n",
       "196  Female  1.373928            2.497807               -0.861839\n",
       "197    Male -0.108571            2.497807                0.923953\n",
       "198    Male  1.461133            2.917671               -1.250054\n",
       "199    Male  0.240252            2.917671                1.273347\n",
       "\n",
       "[200 rows x 4 columns]"
      ]
     },
     "execution_count": 25,
     "metadata": {},
     "output_type": "execute_result"
    }
   ],
   "source": [
    "### 1.2 Analyse Exploratoire des Données\n",
    "db_mod.iloc[:, 1:] = scaler.fit_transform(db_mod.iloc[:, 1:].to_numpy())\n",
    "\n",
    "db_mod"
   ]
  },
  {
   "cell_type": "markdown",
   "metadata": {},
   "source": [
    "## Modelisation"
   ]
  },
  {
   "cell_type": "markdown",
   "metadata": {},
   "source": [
    "#### Importation de la librairie de K-Means"
   ]
  },
  {
   "cell_type": "code",
   "execution_count": 26,
   "metadata": {},
   "outputs": [
    {
     "name": "stdout",
     "output_type": "stream",
     "text": [
      "Requirement already satisfied: kmodes in /opt/anaconda3/lib/python3.8/site-packages (0.11.0)\r\n",
      "Requirement already satisfied: scipy>=0.13.3 in /opt/anaconda3/lib/python3.8/site-packages (from kmodes) (1.5.2)\r\n",
      "Requirement already satisfied: scikit-learn>=0.22.0 in /opt/anaconda3/lib/python3.8/site-packages (from kmodes) (0.23.2)\r\n",
      "Requirement already satisfied: joblib>=0.11 in /opt/anaconda3/lib/python3.8/site-packages (from kmodes) (0.17.0)\r\n",
      "Requirement already satisfied: numpy>=1.10.4 in /opt/anaconda3/lib/python3.8/site-packages (from kmodes) (1.19.2)\r\n",
      "Requirement already satisfied: threadpoolctl>=2.0.0 in /opt/anaconda3/lib/python3.8/site-packages (from scikit-learn>=0.22.0->kmodes) (2.1.0)\r\n"
     ]
    }
   ],
   "source": [
    "!pip install kmodes\n",
    "from kmodes.kprototypes import KPrototypes\n",
    "\n",
    "# Ignore warnings\n",
    "#import warnings\n",
    "#warnings.filterwarnings('ignore', category = FutureWarning)"
   ]
  },
  {
   "cell_type": "markdown",
   "metadata": {},
   "source": [
    "#### Identification de la variable catégorielle"
   ]
  },
  {
   "cell_type": "code",
   "execution_count": 27,
   "metadata": {},
   "outputs": [],
   "source": [
    "#identification de la variable quali,0 car c'est la colonne \n",
    "catColumnsPos = [0]\n",
    "#catColumnsPos = [db_mod.columns.get_loc(col) for col in list(db_mod.select_dtypes('object').columns)]\n"
   ]
  },
  {
   "cell_type": "markdown",
   "metadata": {},
   "source": [
    "#### Base de modélisation "
   ]
  },
  {
   "cell_type": "code",
   "execution_count": 29,
   "metadata": {},
   "outputs": [
    {
     "data": {
      "text/plain": [
       "array([['Male', -1.7654816285106592, -1.7389991930659485,\n",
       "        -0.43480147996914814],\n",
       "       ['Male', -1.5910700080107176, -1.7389991930659485,\n",
       "        1.195704069915157],\n",
       "       ['Female', -1.7654816285106592, -1.7008297638941763,\n",
       "        -1.7159129834496736],\n",
       "       ['Female', -1.5038641977607468, -1.7008297638941763,\n",
       "        1.0404178270690327],\n",
       "       ['Female', -1.6782758182606885, -1.6626603347224038,\n",
       "        -0.3959799192576171],\n",
       "       ['Female', -1.2422467670108344, -1.6626603347224038,\n",
       "        1.0015962663575015],\n",
       "       ['Female', -1.6782758182606885, -1.6244909055506316,\n",
       "        -1.7159129834496736],\n",
       "       ['Female', -1.85268743876063, -1.6244909055506316,\n",
       "        1.700384359165061],\n",
       "       ['Male', -1.5910700080107176, -1.5863214763788591,\n",
       "        -1.832377665584267],\n",
       "       ['Female', -1.85268743876063, -1.5863214763788591,\n",
       "        0.8463100235113773],\n",
       "       ['Male', -1.85268743876063, -1.5863214763788591,\n",
       "        -1.405340497757425],\n",
       "       ['Female', -1.4166583875107759, -1.5863214763788591,\n",
       "        1.8944921627227165],\n",
       "       ['Female', -1.4166583875107759, -1.5481520472070869,\n",
       "        -1.3665189370458939],\n",
       "       ['Female', -1.85268743876063, -1.5481520472070869,\n",
       "        1.0404178270690327],\n",
       "       ['Male', -1.5038641977607468, -1.5481520472070869,\n",
       "        -1.444162058468956],\n",
       "       ['Male', -1.2422467670108344, -1.5481520472070869,\n",
       "        1.118060948492095],\n",
       "       ['Female', -1.85268743876063, -1.5099826180353144,\n",
       "        -0.5900877228152724],\n",
       "       ['Male', -1.6782758182606885, -1.5099826180353144,\n",
       "        0.6133806592421909],\n",
       "       ['Male', -1.329452577260805, -1.4336437596917697,\n",
       "        -0.823017087084459],\n",
       "       ['Female', -1.7654816285106592, -1.4336437596917697,\n",
       "        1.8556706020111853],\n",
       "       ['Male', -1.2422467670108344, -1.3954743305199975,\n",
       "        -0.5900877228152724],\n",
       "       ['Male', -1.2422467670108344, -1.3954743305199975,\n",
       "        0.8851315842229084],\n",
       "       ['Female', -1.329452577260805, -1.357304901348225,\n",
       "        -1.7547345441612048],\n",
       "       ['Male', -1.329452577260805, -1.357304901348225,\n",
       "        0.8851315842229084],\n",
       "       ['Female', -1.5910700080107176, -1.2427966138329078,\n",
       "        -1.405340497757425],\n",
       "       ['Male', -1.2422467670108344, -1.2427966138329078,\n",
       "        1.234525630626688],\n",
       "       ['Female', -1.7654816285106592, -1.2427966138329078,\n",
       "        -0.7065524049498657],\n",
       "       ['Male', -1.4166583875107759, -1.2427966138329078,\n",
       "        0.4192728556845355],\n",
       "       ['Female', -1.4166583875107759, -1.2046271846611356,\n",
       "        -0.7453739656613968],\n",
       "       ['Female', -1.7654816285106592, -1.2046271846611356,\n",
       "        1.4286334341843434],\n",
       "       ['Male', -1.6782758182606885, -1.1664577554893631,\n",
       "        -1.7935561048727358],\n",
       "       ['Female', -1.2422467670108344, -1.1664577554893631,\n",
       "        0.8851315842229084],\n",
       "       ['Male', -1.329452577260805, -1.0519494679740462,\n",
       "        -1.7935561048727358],\n",
       "       ['Male', -1.6782758182606885, -1.0519494679740462,\n",
       "        1.622741237741999],\n",
       "       ['Female', -1.5910700080107176, -1.0519494679740462,\n",
       "        -1.405340497757425],\n",
       "       ['Female', -1.4166583875107759, -1.0519494679740462,\n",
       "        1.195704069915157],\n",
       "       ['Female', -1.4166583875107759, -1.0137800388022737,\n",
       "        -1.288875815622832],\n",
       "       ['Female', -1.4166583875107759, -1.0137800388022737,\n",
       "        0.8851315842229084],\n",
       "       ['Female', -1.5038641977607468, -0.8992717512869568,\n",
       "        -0.9394817692190521],\n",
       "       ['Female', -1.5910700080107176, -0.8992717512869568,\n",
       "        0.9627747056459706],\n",
       "       ['Female', -1.4166583875107759, -0.8611023221151844,\n",
       "        -0.5900877228152724],\n",
       "       ['Male', -1.5038641977607468, -0.8611023221151844,\n",
       "        1.622741237741999],\n",
       "       ['Male', -1.5910700080107176, -0.8229328929434121,\n",
       "        -0.5512661621037414],\n",
       "       ['Female', -1.4166583875107759, -0.8229328929434121,\n",
       "        0.4192728556845355],\n",
       "       ['Female', -1.2422467670108344, -0.8229328929434121,\n",
       "        -0.86183864779599],\n",
       "       ['Female', -1.5038641977607468, -0.8229328929434121,\n",
       "        0.5745590985306598],\n",
       "       ['Female', -0.02136542351124263, -0.7847634637716397,\n",
       "        0.18634349141534906],\n",
       "       ['Female', 0.24025200723866985, -0.7847634637716397,\n",
       "        -0.12422899427689955],\n",
       "       ['Female', 0.41466362773861154, -0.7847634637716397,\n",
       "        -0.31833679783455493],\n",
       "       ['Female', -0.02136542351124263, -0.7847634637716397,\n",
       "        -0.31833679783455493],\n",
       "       ['Female', 0.15304619698869903, -0.7084246054280949,\n",
       "        0.06987880928075582],\n",
       "       ['Male', 0.0658403867387282, -0.7084246054280949,\n",
       "        0.38045129497300445],\n",
       "       ['Female', 0.5018694379885823, -0.6702551762563226,\n",
       "        0.14752193070381797],\n",
       "       ['Male', 0.32745781748864067, -0.6702551762563226,\n",
       "        0.38045129497300445],\n",
       "       ['Female', 0.24025200723866985, -0.6702551762563226,\n",
       "        -0.20187211569996172],\n",
       "       ['Male', -0.02136542351124263, -0.6702551762563226,\n",
       "        -0.357158358546086],\n",
       "       ['Female', 0.24025200723866985, -0.6320857470845502,\n",
       "        -0.007764312142306325],\n",
       "       ['Male', -0.02136542351124263, -0.6320857470845502,\n",
       "        -0.16305055498843063],\n",
       "       ['Female', 0.15304619698869903, -0.5557468887410055,\n",
       "        0.03105724856922475],\n",
       "       ['Male', 0.0658403867387282, -0.5557468887410055,\n",
       "        -0.16305055498843063],\n",
       "       ['Male', 0.32745781748864067, -0.5557468887410055,\n",
       "        0.22516505212688012],\n",
       "       ['Male', 0.24025200723866985, -0.5557468887410055,\n",
       "        0.18634349141534906],\n",
       "       ['Female', 0.15304619698869903, -0.5175774595692332,\n",
       "        0.06987880928075582],\n",
       "       ['Female', 0.24025200723866985, -0.5175774595692332,\n",
       "        0.34162973426147336],\n",
       "       ['Male', -0.02136542351124263, -0.4794080303974609,\n",
       "        0.03105724856922475],\n",
       "       ['Male', -0.10857123376121346, -0.4794080303974609,\n",
       "        0.34162973426147336],\n",
       "       ['Female', 0.24025200723866985, -0.4794080303974609,\n",
       "        -0.007764312142306325],\n",
       "       ['Female', 0.15304619698869903, -0.4794080303974609,\n",
       "        -0.08540743356536848],\n",
       "       ['Male', 0.24025200723866985, -0.4794080303974609,\n",
       "        0.34162973426147336],\n",
       "       ['Female', 0.5890752482385532, -0.4794080303974609,\n",
       "        -0.12422899427689955],\n",
       "       ['Male', 0.32745781748864067, -0.44123860122568853,\n",
       "        0.18634349141534906],\n",
       "       ['Female', -0.02136542351124263, -0.44123860122568853,\n",
       "        -0.31833679783455493],\n",
       "       ['Female', 0.32745781748864067, -0.4030691720539161,\n",
       "        -0.046585872853837404],\n",
       "       ['Female', -0.10857123376121346, -0.4030691720539161,\n",
       "        0.22516505212688012],\n",
       "       ['Male', 0.0658403867387282, -0.2503914553668267,\n",
       "        -0.12422899427689955],\n",
       "       ['Male', 0.15304619698869903, -0.2503914553668267,\n",
       "        0.14752193070381797],\n",
       "       ['Female', 0.5018694379885823, -0.2503914553668267,\n",
       "        0.1087003699922869],\n",
       "       ['Male', -0.02136542351124263, -0.2503914553668267,\n",
       "        -0.08540743356536848],\n",
       "       ['Female', -0.02136542351124263, -0.2503914553668267,\n",
       "        0.06987880928075582],\n",
       "       ['Female', 0.15304619698869903, -0.2503914553668267,\n",
       "        -0.31833679783455493],\n",
       "       ['Male', 0.0658403867387282, -0.2503914553668267,\n",
       "        0.03105724856922475],\n",
       "       ['Male', 0.41466362773861154, -0.2503914553668267,\n",
       "        0.18634349141534906],\n",
       "       ['Male', -0.02136542351124263, -0.2503914553668267,\n",
       "        -0.357158358546086],\n",
       "       ['Female', -0.10857123376121346, -0.2503914553668267,\n",
       "        -0.24069367641149278],\n",
       "       ['Female', 0.0658403867387282, -0.2503914553668267,\n",
       "        0.2639866128384112],\n",
       "       ['Male', 0.0658403867387282, -0.2503914553668267,\n",
       "        -0.16305055498843063],\n",
       "       ['Female', 0.5018694379885823, -0.13588316785150967,\n",
       "        0.30280817354994227],\n",
       "       ['Female', 0.32745781748864067, -0.13588316785150967,\n",
       "        0.18634349141534906],\n",
       "       ['Female', 0.15304619698869903, -0.09771373867973732,\n",
       "        0.38045129497300445],\n",
       "       ['Female', -0.10857123376121346, -0.09771373867973732,\n",
       "        -0.16305055498843063],\n",
       "       ['Female', 0.32745781748864067, -0.05954430950796496,\n",
       "        0.18634349141534906],\n",
       "       ['Male', -0.02136542351124263, -0.05954430950796496,\n",
       "        -0.357158358546086],\n",
       "       ['Male', -0.10857123376121346, -0.021374880336192604,\n",
       "        -0.046585872853837404],\n",
       "       ['Female', 0.41466362773861154, -0.021374880336192604,\n",
       "        -0.3959799192576171],\n",
       "       ['Female', 0.24025200723866985, -0.021374880336192604,\n",
       "        -0.31833679783455493],\n",
       "       ['Male', 0.32745781748864067, -0.021374880336192604,\n",
       "        0.06987880928075582],\n",
       "       ['Female', 0.24025200723866985, -0.021374880336192604,\n",
       "        -0.12422899427689955],\n",
       "       ['Female', 0.32745781748864067, -0.021374880336192604,\n",
       "        -0.007764312142306325],\n",
       "       ['Male', 0.0658403867387282, 0.01679454883557975,\n",
       "        -0.31833679783455493],\n",
       "       ['Male', -0.02136542351124263, 0.01679454883557975,\n",
       "        -0.046585872853837404],\n",
       "       ['Female', 0.32745781748864067, 0.0549639780073521,\n",
       "        -0.357158358546086],\n",
       "       ['Female', -0.02136542351124263, 0.0549639780073521,\n",
       "        -0.08540743356536848],\n",
       "       ['Male', -0.02136542351124263, 0.0549639780073521,\n",
       "        0.34162973426147336],\n",
       "       ['Male', 0.0658403867387282, 0.0549639780073521,\n",
       "        0.18634349141534906],\n",
       "       ['Male', 0.15304619698869903, 0.0549639780073521,\n",
       "        0.22516505212688012],\n",
       "       ['Female', 0.0658403867387282, 0.0549639780073521,\n",
       "        -0.31833679783455493],\n",
       "       ['Female', -0.10857123376121346, 0.09313340717912445,\n",
       "        -0.007764312142306325],\n",
       "       ['Male', 0.0658403867387282, 0.09313340717912445,\n",
       "        -0.16305055498843063],\n",
       "       ['Male', -0.2829828542611551, 0.09313340717912445,\n",
       "        -0.27951523712302384],\n",
       "       ['Male', 0.24025200723866985, 0.09313340717912445,\n",
       "        -0.08540743356536848],\n",
       "       ['Male', -0.1957770440111843, 0.09313340717912445,\n",
       "        0.06987880928075582],\n",
       "       ['Female', -0.02136542351124263, 0.09313340717912445,\n",
       "        0.14752193070381797],\n",
       "       ['Female', 0.15304619698869903, 0.13130283635089682,\n",
       "        -0.31833679783455493],\n",
       "       ['Male', -0.02136542351124263, 0.13130283635089682,\n",
       "        -0.16305055498843063],\n",
       "       ['Female', 0.41466362773861154, 0.16947226552266917,\n",
       "        -0.08540743356536848],\n",
       "       ['Female', -0.10857123376121346, 0.16947226552266917,\n",
       "        -0.007764312142306325],\n",
       "       ['Female', 0.24025200723866985, 0.16947226552266917,\n",
       "        -0.27951523712302384],\n",
       "       ['Female', 0.15304619698869903, 0.16947226552266917,\n",
       "        0.34162973426147336],\n",
       "       ['Female', -0.10857123376121346, 0.24581112386621387,\n",
       "        -0.27951523712302384],\n",
       "       ['Female', 0.24025200723866985, 0.24581112386621387,\n",
       "        0.2639866128384112],\n",
       "       ['Male', 0.15304619698869903, 0.24581112386621387,\n",
       "        0.22516505212688012],\n",
       "       ['Female', 0.32745781748864067, 0.24581112386621387,\n",
       "        -0.3959799192576171],\n",
       "       ['Female', 0.32745781748864067, 0.3221499822097586,\n",
       "        0.30280817354994227],\n",
       "       ['Male', 0.41466362773861154, 0.3221499822097586,\n",
       "        1.5839196770304678],\n",
       "       ['Female', 1.8099565917381448, 0.36031941138153095,\n",
       "        -0.823017087084459],\n",
       "       ['Female', 0.41466362773861154, 0.36031941138153095,\n",
       "        1.0404178270690327],\n",
       "       ['Male', 0.5890752482385532, 0.3984888405533033,\n",
       "        -0.5900877228152724],\n",
       "       ['Male', 0.0658403867387282, 0.3984888405533033,\n",
       "        1.7392059198765921],\n",
       "       ['Male', 1.5483391609882324, 0.3984888405533033,\n",
       "        -1.5218051798920182],\n",
       "       ['Male', 0.0658403867387282, 0.3984888405533033,\n",
       "        0.9627747056459706],\n",
       "       ['Male', 1.635544971238203, 0.3984888405533033,\n",
       "        -1.5994483013150804],\n",
       "       ['Male', -0.02136542351124263, 0.3984888405533033,\n",
       "        0.9627747056459706],\n",
       "       ['Female', 1.8971624019881157, 0.43665826972507565,\n",
       "        -0.6289092835268035],\n",
       "       ['Female', -0.10857123376121346, 0.43665826972507565,\n",
       "        0.8074884627998463],\n",
       "       ['Male', 1.8099565917381448, 0.474827698896848,\n",
       "        -1.7547345441612048],\n",
       "       ['Female', -0.1957770440111843, 0.474827698896848,\n",
       "        1.4674549948958746],\n",
       "       ['Female', 1.2867217302383198, 0.474827698896848,\n",
       "        -1.6770914227381426],\n",
       "       ['Male', 0.5018694379885823, 0.474827698896848,\n",
       "        0.8851315842229084],\n",
       "       ['Male', 1.635544971238203, 0.5129971280686204,\n",
       "        -1.5606267406035494],\n",
       "       ['Female', 0.0658403867387282, 0.5129971280686204,\n",
       "        0.8463100235113773],\n",
       "       ['Female', 1.4611333507382616, 0.5511665572403928,\n",
       "        -1.7547345441612048],\n",
       "       ['Male', 0.0658403867387282, 0.5511665572403928, 1.66156279845353],\n",
       "       ['Female', 0.41466362773861154, 0.5893359864121651,\n",
       "        -0.3959799192576171],\n",
       "       ['Female', -0.10857123376121346, 0.5893359864121651,\n",
       "        1.4286334341843434],\n",
       "       ['Male', 1.4611333507382616, 0.6275054155839375,\n",
       "        -1.4829836191804873],\n",
       "       ['Male', 0.32745781748864067, 0.6275054155839375,\n",
       "        1.8168490412996543],\n",
       "       ['Male', 1.5483391609882324, 0.6275054155839375,\n",
       "        -0.5512661621037414],\n",
       "       ['Female', -0.1957770440111843, 0.6275054155839375,\n",
       "        0.9239531449344395],\n",
       "       ['Female', 1.4611333507382616, 0.6656748447557098,\n",
       "        -1.0947680120651764],\n",
       "       ['Male', 0.15304619698869903, 0.6656748447557098,\n",
       "        1.5450981163189368],\n",
       "       ['Male', 1.722750781488174, 0.6656748447557098,\n",
       "        -1.288875815622832],\n",
       "       ['Male', -0.02136542351124263, 0.6656748447557098,\n",
       "        1.4674549948958746],\n",
       "       ['Female', 1.635544971238203, 0.6656748447557098,\n",
       "        -1.1724111334882386],\n",
       "       ['Female', 0.24025200723866985, 0.6656748447557098,\n",
       "        1.0015962663575015],\n",
       "       ['Female', 1.4611333507382616, 0.6656748447557098,\n",
       "        -1.327697376334363],\n",
       "       ['Female', 0.0658403867387282, 0.6656748447557098,\n",
       "        1.5062765556074056],\n",
       "       ['Male', 1.5483391609882324, 0.6656748447557098,\n",
       "        -1.9100207870073291],\n",
       "       ['Female', -0.10857123376121346, 0.6656748447557098,\n",
       "        1.0792393877805637],\n",
       "       ['Male', 1.5483391609882324, 0.6656748447557098,\n",
       "        -1.9100207870073291],\n",
       "       ['Female', 0.15304619698869903, 0.6656748447557098,\n",
       "        0.8851315842229084],\n",
       "       ['Female', 1.722750781488174, 0.7038442739274822,\n",
       "        -0.5900877228152724],\n",
       "       ['Female', 0.24025200723866985, 0.7038442739274822,\n",
       "        1.2733471913382193],\n",
       "       ['Male', 1.4611333507382616, 0.7801831322710269,\n",
       "        -1.7547345441612048],\n",
       "       ['Female', 0.15304619698869903, 0.7801831322710269,\n",
       "        1.66156279845353],\n",
       "       ['Male', 1.5483391609882324, 0.9328608489581163,\n",
       "        -0.9394817692190521],\n",
       "       ['Female', 0.24025200723866985, 0.9328608489581163,\n",
       "        0.9627747056459706],\n",
       "       ['Male', 1.2867217302383198, 0.9710302781298886,\n",
       "        -1.1724111334882386],\n",
       "       ['Female', 0.0658403867387282, 0.9710302781298886,\n",
       "        1.7392059198765921],\n",
       "       ['Female', 0.9378984892384366, 1.009199707301661,\n",
       "        -0.900660208507521],\n",
       "       ['Male', 0.0658403867387282, 1.009199707301661,\n",
       "        0.49691597710759766],\n",
       "       ['Male', 1.5483391609882324, 1.009199707301661,\n",
       "        -1.444162058468956],\n",
       "       ['Male', -0.02136542351124263, 1.009199707301661,\n",
       "        0.9627747056459706],\n",
       "       ['Male', 1.635544971238203, 1.009199707301661,\n",
       "        -1.5606267406035494],\n",
       "       ['Male', 0.0658403867387282, 1.009199707301661, 1.622741237741999],\n",
       "       ['Female', 1.2867217302383198, 1.0473691364734332,\n",
       "        -1.444162058468956],\n",
       "       ['Female', -0.02136542351124263, 1.0473691364734332,\n",
       "        1.3898118734728124],\n",
       "       ['Male', 1.8971624019881157, 1.0473691364734332,\n",
       "        -1.3665189370458939],\n",
       "       ['Male', -0.1957770440111843, 1.0473691364734332,\n",
       "        0.7298453413767841],\n",
       "       ['Male', 1.199515919988349, 1.238216282332295, -1.405340497757425],\n",
       "       ['Male', 0.15304619698869903, 1.238216282332295,\n",
       "        1.5450981163189368],\n",
       "       ['Female', 1.4611333507382616, 1.3908939990193845,\n",
       "        -0.7065524049498657],\n",
       "       ['Female', 0.0658403867387282, 1.3908939990193845,\n",
       "        1.3898118734728124],\n",
       "       ['Male', 1.4611333507382616, 1.429063428191157,\n",
       "        -1.3665189370458939],\n",
       "       ['Female', -0.1957770440111843, 1.429063428191157,\n",
       "        1.4674549948958746],\n",
       "       ['Female', 1.722750781488174, 1.4672328573629292,\n",
       "        -0.43480147996914814],\n",
       "       ['Male', 0.24025200723866985, 1.4672328573629292,\n",
       "        1.8168490412996543],\n",
       "       ['Female', 1.722750781488174, 1.543571715706474,\n",
       "        -1.0171248906421142],\n",
       "       ['Male', -0.02136542351124263, 1.543571715706474,\n",
       "        0.691023780665253],\n",
       "       ['Female', 1.4611333507382616, 1.6199105740500186,\n",
       "        -1.288875815622832],\n",
       "       ['Female', 0.15304619698869903, 1.6199105740500186,\n",
       "        1.3509903127612812],\n",
       "       ['Female', 1.5483391609882324, 1.6199105740500186,\n",
       "        -1.0559464513536454],\n",
       "       ['Female', 0.32745781748864067, 1.6199105740500186,\n",
       "        0.7298453413767841],\n",
       "       ['Male', 1.2867217302383198, 2.0016048657677423,\n",
       "        -1.6382698620266116],\n",
       "       ['Female', 0.15304619698869903, 2.0016048657677423,\n",
       "        1.5839196770304678],\n",
       "       ['Female', 1.112310109738378, 2.2687908699701484,\n",
       "        -1.327697376334363],\n",
       "       ['Female', 0.41466362773861154, 2.2687908699701484,\n",
       "        1.118060948492095],\n",
       "       ['Female', 1.3739275404882907, 2.4978074450007828,\n",
       "        -0.86183864779599],\n",
       "       ['Male', -0.10857123376121346, 2.4978074450007828,\n",
       "        0.9239531449344395],\n",
       "       ['Male', 1.4611333507382616, 2.9176711658902788,\n",
       "        -1.2500542549113007],\n",
       "       ['Male', 0.24025200723866985, 2.9176711658902788,\n",
       "        1.2733471913382193]], dtype=object)"
      ]
     },
     "execution_count": 29,
     "metadata": {},
     "output_type": "execute_result"
    }
   ],
   "source": [
    "dfMatrix= db_mod.to_numpy()\n",
    "dfMatrix"
   ]
  },
  {
   "cell_type": "markdown",
   "metadata": {},
   "source": [
    "#### Estimation du modèle"
   ]
  },
  {
   "cell_type": "code",
   "execution_count": 33,
   "metadata": {},
   "outputs": [
    {
     "data": {
      "text/plain": [
       "array([1, 0, 1, 0, 1, 0, 1, 0, 1, 0, 1, 0, 1, 0, 1, 0, 1, 0, 1, 0, 1, 0,\n",
       "       1, 0, 1, 0, 1, 0, 1, 0, 1, 0, 1, 0, 1, 0, 1, 0, 1, 0, 1, 0, 1, 0,\n",
       "       1, 0, 4, 4, 4, 4, 4, 4, 4, 4, 4, 4, 4, 4, 4, 4, 4, 4, 4, 4, 4, 4,\n",
       "       4, 4, 4, 4, 4, 4, 4, 4, 4, 4, 4, 4, 4, 4, 4, 4, 4, 4, 4, 4, 4, 4,\n",
       "       4, 4, 4, 4, 4, 4, 4, 4, 4, 4, 4, 4, 4, 4, 4, 4, 4, 4, 4, 4, 4, 4,\n",
       "       4, 4, 4, 4, 4, 4, 4, 4, 4, 4, 4, 4, 4, 3, 2, 3, 4, 3, 2, 3, 2, 3,\n",
       "       2, 3, 2, 3, 2, 3, 2, 3, 2, 3, 4, 3, 2, 3, 2, 3, 2, 3, 2, 3, 2, 3,\n",
       "       2, 3, 2, 3, 2, 3, 2, 3, 2, 3, 2, 3, 2, 3, 2, 3, 2, 3, 2, 3, 2, 3,\n",
       "       2, 3, 2, 3, 2, 3, 2, 3, 2, 3, 2, 3, 2, 3, 2, 3, 2, 3, 2, 3, 2, 3,\n",
       "       2, 3], dtype=uint16)"
      ]
     },
     "execution_count": 33,
     "metadata": {},
     "output_type": "execute_result"
    }
   ],
   "source": [
    "# Modèle avec 5 clusters\n",
    "kprototype = KPrototypes(n_jobs = -1, \n",
    "                         n_clusters = 5, \n",
    "                         init = 'Huang', \n",
    "                         random_state = 0)\n",
    "\n",
    "# Estimation du modèle\n",
    "kprototype.fit_predict(dfMatrix, categorical = catColumnsPos)"
   ]
  },
  {
   "cell_type": "markdown",
   "metadata": {},
   "source": [
    "#### Output du modèle"
   ]
  },
  {
   "cell_type": "code",
   "execution_count": 35,
   "metadata": {},
   "outputs": [
    {
     "data": {
      "text/html": [
       "<div>\n",
       "<style scoped>\n",
       "    .dataframe tbody tr th:only-of-type {\n",
       "        vertical-align: middle;\n",
       "    }\n",
       "\n",
       "    .dataframe tbody tr th {\n",
       "        vertical-align: top;\n",
       "    }\n",
       "\n",
       "    .dataframe thead th {\n",
       "        text-align: right;\n",
       "    }\n",
       "</style>\n",
       "<table border=\"1\" class=\"dataframe\">\n",
       "  <thead>\n",
       "    <tr style=\"text-align: right;\">\n",
       "      <th></th>\n",
       "      <th>Gender</th>\n",
       "      <th>Age</th>\n",
       "      <th>Annual Income (k$)</th>\n",
       "      <th>Spending Score (1-100)</th>\n",
       "      <th>labels</th>\n",
       "    </tr>\n",
       "  </thead>\n",
       "  <tbody>\n",
       "    <tr>\n",
       "      <th>0</th>\n",
       "      <td>Male</td>\n",
       "      <td>23</td>\n",
       "      <td>15</td>\n",
       "      <td>39</td>\n",
       "      <td>1</td>\n",
       "    </tr>\n",
       "    <tr>\n",
       "      <th>1</th>\n",
       "      <td>Male</td>\n",
       "      <td>25</td>\n",
       "      <td>15</td>\n",
       "      <td>81</td>\n",
       "      <td>0</td>\n",
       "    </tr>\n",
       "    <tr>\n",
       "      <th>2</th>\n",
       "      <td>Female</td>\n",
       "      <td>23</td>\n",
       "      <td>16</td>\n",
       "      <td>6</td>\n",
       "      <td>1</td>\n",
       "    </tr>\n",
       "    <tr>\n",
       "      <th>3</th>\n",
       "      <td>Female</td>\n",
       "      <td>26</td>\n",
       "      <td>16</td>\n",
       "      <td>77</td>\n",
       "      <td>0</td>\n",
       "    </tr>\n",
       "    <tr>\n",
       "      <th>4</th>\n",
       "      <td>Female</td>\n",
       "      <td>24</td>\n",
       "      <td>17</td>\n",
       "      <td>40</td>\n",
       "      <td>1</td>\n",
       "    </tr>\n",
       "  </tbody>\n",
       "</table>\n",
       "</div>"
      ],
      "text/plain": [
       "   Gender  Age  Annual Income (k$)  Spending Score (1-100)  labels\n",
       "0    Male   23                  15                      39       1\n",
       "1    Male   25                  15                      81       0\n",
       "2  Female   23                  16                       6       1\n",
       "3  Female   26                  16                      77       0\n",
       "4  Female   24                  17                      40       1"
      ]
     },
     "execution_count": 35,
     "metadata": {},
     "output_type": "execute_result"
    }
   ],
   "source": [
    "#Définition d'une étiquette pour stocker les classes ou groupe de clients du modèle\n",
    "labels = kprototype.labels_\n",
    "# Affecation\n",
    "db_mod = db.copy()\n",
    "\n",
    "db_mod['labels'] = labels\n",
    "db_mod.head()"
   ]
  },
  {
   "cell_type": "markdown",
   "metadata": {},
   "source": [
    "#### Interprétation des résultats"
   ]
  },
  {
   "cell_type": "code",
   "execution_count": 67,
   "metadata": {},
   "outputs": [
    {
     "data": {
      "text/html": [
       "<div>\n",
       "<style scoped>\n",
       "    .dataframe tbody tr th:only-of-type {\n",
       "        vertical-align: middle;\n",
       "    }\n",
       "\n",
       "    .dataframe tbody tr th {\n",
       "        vertical-align: top;\n",
       "    }\n",
       "\n",
       "    .dataframe thead th {\n",
       "        text-align: right;\n",
       "    }\n",
       "</style>\n",
       "<table border=\"1\" class=\"dataframe\">\n",
       "  <thead>\n",
       "    <tr style=\"text-align: right;\">\n",
       "      <th></th>\n",
       "      <th>Age</th>\n",
       "      <th>Annual Income (k$)</th>\n",
       "      <th>Spending Score (1-100)</th>\n",
       "    </tr>\n",
       "    <tr>\n",
       "      <th>labels</th>\n",
       "      <th></th>\n",
       "      <th></th>\n",
       "      <th></th>\n",
       "    </tr>\n",
       "  </thead>\n",
       "  <tbody>\n",
       "    <tr>\n",
       "      <th>0</th>\n",
       "      <td>25.913043</td>\n",
       "      <td>26.304348</td>\n",
       "      <td>78.565217</td>\n",
       "    </tr>\n",
       "    <tr>\n",
       "      <th>1</th>\n",
       "      <td>25.521739</td>\n",
       "      <td>26.304348</td>\n",
       "      <td>20.913043</td>\n",
       "    </tr>\n",
       "    <tr>\n",
       "      <th>2</th>\n",
       "      <td>60.638889</td>\n",
       "      <td>87.750000</td>\n",
       "      <td>17.583333</td>\n",
       "    </tr>\n",
       "    <tr>\n",
       "      <th>3</th>\n",
       "      <td>44.358974</td>\n",
       "      <td>86.538462</td>\n",
       "      <td>82.128205</td>\n",
       "    </tr>\n",
       "    <tr>\n",
       "      <th>4</th>\n",
       "      <td>44.974684</td>\n",
       "      <td>55.291139</td>\n",
       "      <td>49.569620</td>\n",
       "    </tr>\n",
       "  </tbody>\n",
       "</table>\n",
       "</div>"
      ],
      "text/plain": [
       "              Age  Annual Income (k$)  Spending Score (1-100)\n",
       "labels                                                       \n",
       "0       25.913043           26.304348               78.565217\n",
       "1       25.521739           26.304348               20.913043\n",
       "2       60.638889           87.750000               17.583333\n",
       "3       44.358974           86.538462               82.128205\n",
       "4       44.974684           55.291139               49.569620"
      ]
     },
     "execution_count": 67,
     "metadata": {},
     "output_type": "execute_result"
    }
   ],
   "source": [
    "table = pd.pivot_table(db_mod, index='labels', aggfunc='mean')\n",
    "table"
   ]
  },
  {
   "cell_type": "markdown",
   "metadata": {},
   "source": [
    "5 groupes différents avec des revenus moyens et des dépenses différentes"
   ]
  },
  {
   "cell_type": "code",
   "execution_count": 37,
   "metadata": {},
   "outputs": [
    {
     "data": {
      "text/html": [
       "<div>\n",
       "<style scoped>\n",
       "    .dataframe tbody tr th:only-of-type {\n",
       "        vertical-align: middle;\n",
       "    }\n",
       "\n",
       "    .dataframe tbody tr th {\n",
       "        vertical-align: top;\n",
       "    }\n",
       "\n",
       "    .dataframe thead th {\n",
       "        text-align: right;\n",
       "    }\n",
       "</style>\n",
       "<table border=\"1\" class=\"dataframe\">\n",
       "  <thead>\n",
       "    <tr style=\"text-align: right;\">\n",
       "      <th></th>\n",
       "      <th>Gender</th>\n",
       "      <th>Age</th>\n",
       "      <th>Annual Income (k$)</th>\n",
       "      <th>Spending Score (1-100)</th>\n",
       "      <th>labels</th>\n",
       "    </tr>\n",
       "  </thead>\n",
       "  <tbody>\n",
       "    <tr>\n",
       "      <th>0</th>\n",
       "      <td>Male</td>\n",
       "      <td>23</td>\n",
       "      <td>15</td>\n",
       "      <td>39</td>\n",
       "      <td>1</td>\n",
       "    </tr>\n",
       "    <tr>\n",
       "      <th>1</th>\n",
       "      <td>Male</td>\n",
       "      <td>25</td>\n",
       "      <td>15</td>\n",
       "      <td>81</td>\n",
       "      <td>0</td>\n",
       "    </tr>\n",
       "    <tr>\n",
       "      <th>2</th>\n",
       "      <td>Female</td>\n",
       "      <td>23</td>\n",
       "      <td>16</td>\n",
       "      <td>6</td>\n",
       "      <td>1</td>\n",
       "    </tr>\n",
       "    <tr>\n",
       "      <th>3</th>\n",
       "      <td>Female</td>\n",
       "      <td>26</td>\n",
       "      <td>16</td>\n",
       "      <td>77</td>\n",
       "      <td>0</td>\n",
       "    </tr>\n",
       "    <tr>\n",
       "      <th>4</th>\n",
       "      <td>Female</td>\n",
       "      <td>24</td>\n",
       "      <td>17</td>\n",
       "      <td>40</td>\n",
       "      <td>1</td>\n",
       "    </tr>\n",
       "    <tr>\n",
       "      <th>...</th>\n",
       "      <td>...</td>\n",
       "      <td>...</td>\n",
       "      <td>...</td>\n",
       "      <td>...</td>\n",
       "      <td>...</td>\n",
       "    </tr>\n",
       "    <tr>\n",
       "      <th>195</th>\n",
       "      <td>Female</td>\n",
       "      <td>48</td>\n",
       "      <td>120</td>\n",
       "      <td>79</td>\n",
       "      <td>3</td>\n",
       "    </tr>\n",
       "    <tr>\n",
       "      <th>196</th>\n",
       "      <td>Female</td>\n",
       "      <td>59</td>\n",
       "      <td>126</td>\n",
       "      <td>28</td>\n",
       "      <td>2</td>\n",
       "    </tr>\n",
       "    <tr>\n",
       "      <th>197</th>\n",
       "      <td>Male</td>\n",
       "      <td>42</td>\n",
       "      <td>126</td>\n",
       "      <td>74</td>\n",
       "      <td>3</td>\n",
       "    </tr>\n",
       "    <tr>\n",
       "      <th>198</th>\n",
       "      <td>Male</td>\n",
       "      <td>60</td>\n",
       "      <td>137</td>\n",
       "      <td>18</td>\n",
       "      <td>2</td>\n",
       "    </tr>\n",
       "    <tr>\n",
       "      <th>199</th>\n",
       "      <td>Male</td>\n",
       "      <td>46</td>\n",
       "      <td>137</td>\n",
       "      <td>83</td>\n",
       "      <td>3</td>\n",
       "    </tr>\n",
       "  </tbody>\n",
       "</table>\n",
       "<p>200 rows × 5 columns</p>\n",
       "</div>"
      ],
      "text/plain": [
       "     Gender  Age  Annual Income (k$)  Spending Score (1-100)  labels\n",
       "0      Male   23                  15                      39       1\n",
       "1      Male   25                  15                      81       0\n",
       "2    Female   23                  16                       6       1\n",
       "3    Female   26                  16                      77       0\n",
       "4    Female   24                  17                      40       1\n",
       "..      ...  ...                 ...                     ...     ...\n",
       "195  Female   48                 120                      79       3\n",
       "196  Female   59                 126                      28       2\n",
       "197    Male   42                 126                      74       3\n",
       "198    Male   60                 137                      18       2\n",
       "199    Male   46                 137                      83       3\n",
       "\n",
       "[200 rows x 5 columns]"
      ]
     },
     "execution_count": 37,
     "metadata": {},
     "output_type": "execute_result"
    }
   ],
   "source": [
    "db_mod"
   ]
  },
  {
   "cell_type": "code",
   "execution_count": 39,
   "metadata": {},
   "outputs": [
    {
     "data": {
      "text/plain": [
       "<matplotlib.collections.PathCollection at 0x7fe8cc679df0>"
      ]
     },
     "execution_count": 39,
     "metadata": {},
     "output_type": "execute_result"
    },
    {
     "data": {
      "image/png": "[encoded data removed]",
      "text/plain": [
       "<Figure size 432x288 with 1 Axes>"
      ]
     },
     "metadata": {
      "needs_background": "light"
     },
     "output_type": "display_data"
    }
   ],
   "source": [
    "plt.scatter(x=db_mod.loc[:,'Annual Income (k$)'],\n",
    "            y=db_mod.loc[:,'Spending Score (1-100)'],\n",
    "            c=db_mod.loc[:,'labels'])\n",
    "               "
   ]
  },
  {
   "cell_type": "markdown",
   "metadata": {},
   "source": [
    "On distingue 5 groupes, le membres du premier groupe, gagne entre 20 et 40k/an et ont un score de 40%, ils dépensent 40% de leurs revenus. On peut voir tout à droite, un groupe caracterisé par des salaires élévés et des dépenses faibles.\n",
    "\n"
   ]
  },
  {
   "cell_type": "code",
   "execution_count": 49,
   "metadata": {},
   "outputs": [
    {
     "name": "stdout",
     "output_type": "stream",
     "text": [
      "[['-1.5114473116955274' '-1.3075186893850437' '1.1011820090522988'\n",
      "  'Female']\n",
      " ['-1.5455713244020377' '-1.3075186893850432' '-1.1369653606646668'\n",
      "  'Female']\n",
      " ['1.5168481739535205' '1.0378267791804907' '-1.2662299052077726' 'Male']\n",
      " ['0.09714503657205108' '0.9915830476839201' '1.2395027537948333'\n",
      "  'Female']\n",
      " ['0.15083845495705414' '-0.20110940757542448' '-0.02447232561309186'\n",
      "  'Female']]\n",
      "3\n",
      "116.25384704067382\n"
     ]
    }
   ],
   "source": [
    "print(kprototype.cluster_centroids_)\n",
    "\n",
    "print(kprototype.n_iter_)\n",
    "\n",
    "print(kprototype.cost_)"
   ]
  },
  {
   "cell_type": "markdown",
   "metadata": {},
   "source": [
    "## Pertinence du modèle"
   ]
  },
  {
   "cell_type": "code",
   "execution_count": 66,
   "metadata": {},
   "outputs": [
    {
     "data": {
      "text/plain": [
       "116.25384704067382"
      ]
     },
     "execution_count": 66,
     "metadata": {},
     "output_type": "execute_result"
    }
   ],
   "source": [
    "# Modèle\n",
    "cost = []\n",
    "kprototype2 = KPrototypes(n_jobs = -1, \n",
    "                         n_clusters = 5, \n",
    "                         init = 'Huang', \n",
    "                         random_state = 0)\n",
    "\n",
    "# Estimation du modèle\n",
    "kprototype2.fit_predict(dfMatrix, categorical = catColumnsPos)\n",
    "\n",
    "\n",
    "# Check the cost of the clusters created\n",
    "kprototype2.cost_"
   ]
  },
  {
   "cell_type": "markdown",
   "metadata": {},
   "source": [
    "L'inertie parait acceptable, on peut garder 5 clusters différents pour classer les clients."
   ]
  },
  {
   "cell_type": "code",
   "execution_count": null,
   "metadata": {},
   "outputs": [],
   "source": []
  }
 ],
 "metadata": {
  "kernelspec": {
   "display_name": "Python 3",
   "language": "python",
   "name": "python3"
  },
  "language_info": {
   "codemirror_mode": {
    "name": "ipython",
    "version": 3
   },
   "file_extension": ".py",
   "mimetype": "text/x-python",
   "name": "python",
   "nbconvert_exporter": "python",
   "pygments_lexer": "ipython3",
   "version": "3.8.5"
  }
 },
 "nbformat": 4,
 "nbformat_minor": 4
}
